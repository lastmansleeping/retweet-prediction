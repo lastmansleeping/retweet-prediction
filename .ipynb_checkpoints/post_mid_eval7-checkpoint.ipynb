{
 "metadata": {
  "name": "",
  "signature": "sha256:11505b03b29d466f1410f2acb4ebacb6533f20d9c1d0a99b348873a206844304"
 },
 "nbformat": 3,
 "nbformat_minor": 0,
 "worksheets": [
  {
   "cells": [
    {
     "cell_type": "code",
     "collapsed": false,
     "input": [
      "import pandas as pd\n",
      "import numpy as np\n",
      "import re\n",
      "import matplotlib.pyplot as plt\n",
      "import nltk\n",
      "from sklearn.linear_model import LogisticRegression\n",
      "from sklearn.cross_validation import train_test_split\n",
      "from sklearn import metrics\n",
      "from sklearn import tree\n",
      "\n",
      "%matplotlib inline"
     ],
     "language": "python",
     "metadata": {},
     "outputs": [],
     "prompt_number": 1
    },
    {
     "cell_type": "code",
     "collapsed": false,
     "input": [
      "df = pd.read_pickle('./Post_Mid_Evaluation/final_feature_tweet_file')"
     ],
     "language": "python",
     "metadata": {},
     "outputs": [],
     "prompt_number": 2
    },
    {
     "cell_type": "code",
     "collapsed": false,
     "input": [
      "df.describe()"
     ],
     "language": "python",
     "metadata": {},
     "outputs": [
      {
       "html": [
        "<div style=\"max-height:1000px;max-width:1500px;overflow:auto;\">\n",
        "<table border=\"1\" class=\"dataframe\">\n",
        "  <thead>\n",
        "    <tr style=\"text-align: right;\">\n",
        "      <th></th>\n",
        "      <th>retweet</th>\n",
        "      <th>direct_message</th>\n",
        "      <th>username</th>\n",
        "      <th>hashtag</th>\n",
        "      <th>url</th>\n",
        "      <th>exclamation</th>\n",
        "      <th>question</th>\n",
        "      <th>positive_term</th>\n",
        "      <th>negative_term</th>\n",
        "      <th>positive_emoticon</th>\n",
        "      <th>negative_emoticon</th>\n",
        "      <th>valence</th>\n",
        "      <th>arousal</th>\n",
        "      <th>dominance</th>\n",
        "      <th>terms</th>\n",
        "    </tr>\n",
        "  </thead>\n",
        "  <tbody>\n",
        "    <tr>\n",
        "      <th>count</th>\n",
        "      <td> 18071.000000</td>\n",
        "      <td> 18071</td>\n",
        "      <td> 18071.000000</td>\n",
        "      <td> 18071.000000</td>\n",
        "      <td> 18071.000000</td>\n",
        "      <td> 18071.000000</td>\n",
        "      <td> 18071.000000</td>\n",
        "      <td> 18071.000000</td>\n",
        "      <td> 18071.000000</td>\n",
        "      <td> 18071.000000</td>\n",
        "      <td> 18071.000000</td>\n",
        "      <td> 18071.000000</td>\n",
        "      <td> 18071.000000</td>\n",
        "      <td> 18071.000000</td>\n",
        "      <td> 18071.000000</td>\n",
        "    </tr>\n",
        "    <tr>\n",
        "      <th>mean</th>\n",
        "      <td>     0.507388</td>\n",
        "      <td>     0</td>\n",
        "      <td>     0.192131</td>\n",
        "      <td>     0.224780</td>\n",
        "      <td>     0.619446</td>\n",
        "      <td>     0.110509</td>\n",
        "      <td>     0.055559</td>\n",
        "      <td>     0.023352</td>\n",
        "      <td>     0.001605</td>\n",
        "      <td>     0.006917</td>\n",
        "      <td>     0.001937</td>\n",
        "      <td>     0.422106</td>\n",
        "      <td>    -0.474492</td>\n",
        "      <td>     0.313989</td>\n",
        "      <td>     0.528020</td>\n",
        "    </tr>\n",
        "    <tr>\n",
        "      <th>std</th>\n",
        "      <td>     0.499959</td>\n",
        "      <td>     0</td>\n",
        "      <td>     0.393986</td>\n",
        "      <td>     0.417449</td>\n",
        "      <td>     0.485537</td>\n",
        "      <td>     0.313531</td>\n",
        "      <td>     0.229074</td>\n",
        "      <td>     0.151024</td>\n",
        "      <td>     0.040029</td>\n",
        "      <td>     0.082884</td>\n",
        "      <td>     0.043968</td>\n",
        "      <td>     0.766147</td>\n",
        "      <td>     0.634337</td>\n",
        "      <td>     0.526668</td>\n",
        "      <td>     0.231426</td>\n",
        "    </tr>\n",
        "    <tr>\n",
        "      <th>min</th>\n",
        "      <td>     0.000000</td>\n",
        "      <td>     0</td>\n",
        "      <td>     0.000000</td>\n",
        "      <td>     0.000000</td>\n",
        "      <td>     0.000000</td>\n",
        "      <td>     0.000000</td>\n",
        "      <td>     0.000000</td>\n",
        "      <td>     0.000000</td>\n",
        "      <td>     0.000000</td>\n",
        "      <td>     0.000000</td>\n",
        "      <td>     0.000000</td>\n",
        "      <td>    -3.520000</td>\n",
        "      <td>    -3.330000</td>\n",
        "      <td>    -2.860000</td>\n",
        "      <td>     0.002082</td>\n",
        "    </tr>\n",
        "    <tr>\n",
        "      <th>25%</th>\n",
        "      <td>     0.000000</td>\n",
        "      <td>     0</td>\n",
        "      <td>     0.000000</td>\n",
        "      <td>     0.000000</td>\n",
        "      <td>     0.000000</td>\n",
        "      <td>     0.000000</td>\n",
        "      <td>     0.000000</td>\n",
        "      <td>     0.000000</td>\n",
        "      <td>     0.000000</td>\n",
        "      <td>     0.000000</td>\n",
        "      <td>     0.000000</td>\n",
        "      <td>     0.000000</td>\n",
        "      <td>    -0.966333</td>\n",
        "      <td>     0.000000</td>\n",
        "      <td>     0.357412</td>\n",
        "    </tr>\n",
        "    <tr>\n",
        "      <th>50%</th>\n",
        "      <td>     1.000000</td>\n",
        "      <td>     0</td>\n",
        "      <td>     0.000000</td>\n",
        "      <td>     0.000000</td>\n",
        "      <td>     1.000000</td>\n",
        "      <td>     0.000000</td>\n",
        "      <td>     0.000000</td>\n",
        "      <td>     0.000000</td>\n",
        "      <td>     0.000000</td>\n",
        "      <td>     0.000000</td>\n",
        "      <td>     0.000000</td>\n",
        "      <td>     0.000000</td>\n",
        "      <td>    -0.090000</td>\n",
        "      <td>     0.000000</td>\n",
        "      <td>     0.507388</td>\n",
        "    </tr>\n",
        "    <tr>\n",
        "      <th>75%</th>\n",
        "      <td>     1.000000</td>\n",
        "      <td>     0</td>\n",
        "      <td>     0.000000</td>\n",
        "      <td>     0.000000</td>\n",
        "      <td>     1.000000</td>\n",
        "      <td>     0.000000</td>\n",
        "      <td>     0.000000</td>\n",
        "      <td>     0.000000</td>\n",
        "      <td>     0.000000</td>\n",
        "      <td>     0.000000</td>\n",
        "      <td>     0.000000</td>\n",
        "      <td>     0.903167</td>\n",
        "      <td>     0.000000</td>\n",
        "      <td>     0.673333</td>\n",
        "      <td>     0.689343</td>\n",
        "    </tr>\n",
        "    <tr>\n",
        "      <th>max</th>\n",
        "      <td>     1.000000</td>\n",
        "      <td>     0</td>\n",
        "      <td>     1.000000</td>\n",
        "      <td>     1.000000</td>\n",
        "      <td>     1.000000</td>\n",
        "      <td>     1.000000</td>\n",
        "      <td>     1.000000</td>\n",
        "      <td>     1.000000</td>\n",
        "      <td>     1.000000</td>\n",
        "      <td>     1.000000</td>\n",
        "      <td>     1.000000</td>\n",
        "      <td>     3.480000</td>\n",
        "      <td>     2.450000</td>\n",
        "      <td>     2.860000</td>\n",
        "      <td>     0.999273</td>\n",
        "    </tr>\n",
        "  </tbody>\n",
        "</table>\n",
        "</div>"
       ],
       "metadata": {},
       "output_type": "pyout",
       "prompt_number": 3,
       "text": [
        "            retweet  direct_message      username       hashtag           url  \\\n",
        "count  18071.000000           18071  18071.000000  18071.000000  18071.000000   \n",
        "mean       0.507388               0      0.192131      0.224780      0.619446   \n",
        "std        0.499959               0      0.393986      0.417449      0.485537   \n",
        "min        0.000000               0      0.000000      0.000000      0.000000   \n",
        "25%        0.000000               0      0.000000      0.000000      0.000000   \n",
        "50%        1.000000               0      0.000000      0.000000      1.000000   \n",
        "75%        1.000000               0      0.000000      0.000000      1.000000   \n",
        "max        1.000000               0      1.000000      1.000000      1.000000   \n",
        "\n",
        "        exclamation      question  positive_term  negative_term  \\\n",
        "count  18071.000000  18071.000000   18071.000000   18071.000000   \n",
        "mean       0.110509      0.055559       0.023352       0.001605   \n",
        "std        0.313531      0.229074       0.151024       0.040029   \n",
        "min        0.000000      0.000000       0.000000       0.000000   \n",
        "25%        0.000000      0.000000       0.000000       0.000000   \n",
        "50%        0.000000      0.000000       0.000000       0.000000   \n",
        "75%        0.000000      0.000000       0.000000       0.000000   \n",
        "max        1.000000      1.000000       1.000000       1.000000   \n",
        "\n",
        "       positive_emoticon  negative_emoticon       valence       arousal  \\\n",
        "count       18071.000000       18071.000000  18071.000000  18071.000000   \n",
        "mean            0.006917           0.001937      0.422106     -0.474492   \n",
        "std             0.082884           0.043968      0.766147      0.634337   \n",
        "min             0.000000           0.000000     -3.520000     -3.330000   \n",
        "25%             0.000000           0.000000      0.000000     -0.966333   \n",
        "50%             0.000000           0.000000      0.000000     -0.090000   \n",
        "75%             0.000000           0.000000      0.903167      0.000000   \n",
        "max             1.000000           1.000000      3.480000      2.450000   \n",
        "\n",
        "          dominance         terms  \n",
        "count  18071.000000  18071.000000  \n",
        "mean       0.313989      0.528020  \n",
        "std        0.526668      0.231426  \n",
        "min       -2.860000      0.002082  \n",
        "25%        0.000000      0.357412  \n",
        "50%        0.000000      0.507388  \n",
        "75%        0.673333      0.689343  \n",
        "max        2.860000      0.999273  "
       ]
      }
     ],
     "prompt_number": 3
    },
    {
     "cell_type": "code",
     "collapsed": false,
     "input": [
      "#divide into training and test\n",
      "\n",
      "columns = df.columns\n",
      "columns = list(columns)\n",
      "del columns[columns.index('screenName')]\n",
      "del columns[columns.index('tweet')]\n",
      "del columns[columns.index('retweet')]\n",
      "size = int(df['url'].count())\n",
      "train = int(0.75 * size)\n",
      "test = train\n",
      "train = df[:train]\n",
      "test = df[test:]\n",
      "print train['url'].count(),test['url'].count()\n",
      "X_train = train[columns]\n",
      "y_train = df[:int(size * 0.75)]['retweet']\n",
      "X_test = test[columns]\n",
      "y_test = df[int(size * 0.75):]['retweet']"
     ],
     "language": "python",
     "metadata": {},
     "outputs": [
      {
       "output_type": "stream",
       "stream": "stdout",
       "text": [
        "13553 4518\n"
       ]
      }
     ],
     "prompt_number": 4
    },
    {
     "cell_type": "code",
     "collapsed": false,
     "input": [
      "print X_train['url'].count(),y_train.count(),X_test['url'].count(),y_test.count()"
     ],
     "language": "python",
     "metadata": {},
     "outputs": [
      {
       "output_type": "stream",
       "stream": "stdout",
       "text": [
        "13553 13553 4518 4518\n"
       ]
      }
     ],
     "prompt_number": 5
    },
    {
     "cell_type": "code",
     "collapsed": false,
     "input": [
      "from sklearn.svm import SVC\n",
      "model = SVC(C = 0.01, probability=True)\n",
      "model.fit(X_train, y_train)\n",
      "print \"train accuracy\"\n",
      "model.score(X_train, y_train)"
     ],
     "language": "python",
     "metadata": {},
     "outputs": [
      {
       "output_type": "stream",
       "stream": "stdout",
       "text": [
        "train accuracy\n"
       ]
      },
      {
       "metadata": {},
       "output_type": "pyout",
       "prompt_number": 6,
       "text": [
        "0.7658820925256401"
       ]
      }
     ],
     "prompt_number": 6
    },
    {
     "cell_type": "code",
     "collapsed": false,
     "input": [
      "predicted_label = model.predict(X_test)\n",
      "predicted_proba = model.predict_proba(X_test)"
     ],
     "language": "python",
     "metadata": {},
     "outputs": [],
     "prompt_number": 7
    },
    {
     "cell_type": "code",
     "collapsed": false,
     "input": [
      "p = [] \n",
      "for x in predicted_proba:\n",
      "    p.append(x[1])\n",
      "\n",
      "predicted_proba = p"
     ],
     "language": "python",
     "metadata": {},
     "outputs": [],
     "prompt_number": 8
    },
    {
     "cell_type": "code",
     "collapsed": false,
     "input": [
      "predicted_proba[:5]"
     ],
     "language": "python",
     "metadata": {},
     "outputs": [
      {
       "metadata": {},
       "output_type": "pyout",
       "prompt_number": 9,
       "text": [
        "[0.19867905193027099,\n",
        " 0.60652380798851946,\n",
        " 0.60652380798851946,\n",
        " 0.31853037833788383,\n",
        " 0.60652380798851946]"
       ]
      }
     ],
     "prompt_number": 9
    },
    {
     "cell_type": "code",
     "collapsed": false,
     "input": [
      "print \"accuracy\"\n",
      "print (metrics.accuracy_score(y_test, predicted_label)*100),\"%\"\n",
      "print \"better than random classifier with accuracy \"\n",
      "print y_test.mean()*100,\"%\"\n",
      "print \"\\nROC AUC\"\n",
      "print metrics.roc_auc_score(y_test, predicted_proba)"
     ],
     "language": "python",
     "metadata": {},
     "outputs": [
      {
       "output_type": "stream",
       "stream": "stdout",
       "text": [
        "accuracy\n",
        "77.9991146525 %\n",
        "better than random classifier with accuracy \n",
        "46.768481629 %\n",
        "\n",
        "ROC AUC\n",
        "0.876805794837\n"
       ]
      }
     ],
     "prompt_number": 10
    },
    {
     "cell_type": "code",
     "collapsed": false,
     "input": [
      "print metrics.confusion_matrix(y_test, predicted_label)\n",
      "print metrics.classification_report(y_test, predicted_label)"
     ],
     "language": "python",
     "metadata": {},
     "outputs": [
      {
       "output_type": "stream",
       "stream": "stdout",
       "text": [
        "[[1963  442]\n",
        " [ 297 1816]]\n",
        "             precision    recall  f1-score   support\n",
        "\n",
        "          0       0.87      0.82      0.84      2405\n",
        "          1       0.80      0.86      0.83      2113\n",
        "\n",
        "avg / total       0.84      0.84      0.84      4518\n",
        "\n"
       ]
      }
     ],
     "prompt_number": 11
    },
    {
     "cell_type": "code",
     "collapsed": false,
     "input": [
      "def plot_roc(algo_name, targets, scores, ph):\n",
      "    fpr, tpr, thresholds = metrics.roc_curve(targets, scores)\n",
      "    roc_auc = metrics.auc(fpr, tpr)\n",
      "    fig = ph.figure()\n",
      "    ax = fig.add_subplot(111)\n",
      "    fig.subplots_adjust(top=1)\n",
      "    ax.set_title('ROC Curve with '+algo_name)\n",
      "    ax.text(0.95, 0.01, 'Area Under Curve : (%0.4f)' % roc_auc,\n",
      "        verticalalignment='bottom', horizontalalignment='right',\n",
      "        transform=ax.transAxes,\n",
      "        color='green', fontsize=15)\n",
      "    ph.plot(fpr, tpr, label=str(algo_name) + '(%0.4f)' % roc_auc)\n",
      "    ph.show()\n",
      "    #return roc_auc\n",
      "\n",
      "   \n",
      "plot_roc('SVC with C = 0.1', y_test, predicted_proba, plt)"
     ],
     "language": "python",
     "metadata": {},
     "outputs": [
      {
       "metadata": {},
       "output_type": "display_data",
       "png": "[encoded data removed]",
       "text": [
        "<matplotlib.figure.Figure at 0x174b79b0>"
       ]
      }
     ],
     "prompt_number": 13
    },
    {
     "cell_type": "code",
     "collapsed": false,
     "input": [
      "svc_output = zip(y_test,predicted_label,predicted_proba)"
     ],
     "language": "python",
     "metadata": {},
     "outputs": [],
     "prompt_number": 18
    },
    {
     "cell_type": "code",
     "collapsed": false,
     "input": [
      "svc_output = pd.DataFrame(svc_output, columns = ['actual','predicted','probability'])"
     ],
     "language": "python",
     "metadata": {},
     "outputs": [],
     "prompt_number": 19
    },
    {
     "cell_type": "code",
     "collapsed": false,
     "input": [
      "svc_output[1:15]"
     ],
     "language": "python",
     "metadata": {},
     "outputs": [
      {
       "html": [
        "<div style=\"max-height:1000px;max-width:1500px;overflow:auto;\">\n",
        "<table border=\"1\" class=\"dataframe\">\n",
        "  <thead>\n",
        "    <tr style=\"text-align: right;\">\n",
        "      <th></th>\n",
        "      <th>actual</th>\n",
        "      <th>predicted</th>\n",
        "      <th>probability</th>\n",
        "    </tr>\n",
        "  </thead>\n",
        "  <tbody>\n",
        "    <tr>\n",
        "      <th>1 </th>\n",
        "      <td> 1</td>\n",
        "      <td> 1</td>\n",
        "      <td> 0.540197</td>\n",
        "    </tr>\n",
        "    <tr>\n",
        "      <th>2 </th>\n",
        "      <td> 1</td>\n",
        "      <td> 1</td>\n",
        "      <td> 0.540197</td>\n",
        "    </tr>\n",
        "    <tr>\n",
        "      <th>3 </th>\n",
        "      <td> 0</td>\n",
        "      <td> 1</td>\n",
        "      <td> 0.609135</td>\n",
        "    </tr>\n",
        "    <tr>\n",
        "      <th>4 </th>\n",
        "      <td> 1</td>\n",
        "      <td> 1</td>\n",
        "      <td> 0.540197</td>\n",
        "    </tr>\n",
        "    <tr>\n",
        "      <th>5 </th>\n",
        "      <td> 0</td>\n",
        "      <td> 1</td>\n",
        "      <td> 0.540197</td>\n",
        "    </tr>\n",
        "    <tr>\n",
        "      <th>6 </th>\n",
        "      <td> 1</td>\n",
        "      <td> 1</td>\n",
        "      <td> 0.997346</td>\n",
        "    </tr>\n",
        "    <tr>\n",
        "      <th>7 </th>\n",
        "      <td> 0</td>\n",
        "      <td> 0</td>\n",
        "      <td> 0.130520</td>\n",
        "    </tr>\n",
        "    <tr>\n",
        "      <th>8 </th>\n",
        "      <td> 0</td>\n",
        "      <td> 1</td>\n",
        "      <td> 0.661814</td>\n",
        "    </tr>\n",
        "    <tr>\n",
        "      <th>9 </th>\n",
        "      <td> 0</td>\n",
        "      <td> 0</td>\n",
        "      <td> 0.443641</td>\n",
        "    </tr>\n",
        "    <tr>\n",
        "      <th>10</th>\n",
        "      <td> 1</td>\n",
        "      <td> 1</td>\n",
        "      <td> 0.540197</td>\n",
        "    </tr>\n",
        "    <tr>\n",
        "      <th>11</th>\n",
        "      <td> 1</td>\n",
        "      <td> 1</td>\n",
        "      <td> 0.984262</td>\n",
        "    </tr>\n",
        "    <tr>\n",
        "      <th>12</th>\n",
        "      <td> 0</td>\n",
        "      <td> 1</td>\n",
        "      <td> 0.540197</td>\n",
        "    </tr>\n",
        "    <tr>\n",
        "      <th>13</th>\n",
        "      <td> 1</td>\n",
        "      <td> 1</td>\n",
        "      <td> 0.999997</td>\n",
        "    </tr>\n",
        "    <tr>\n",
        "      <th>14</th>\n",
        "      <td> 0</td>\n",
        "      <td> 0</td>\n",
        "      <td> 0.016285</td>\n",
        "    </tr>\n",
        "  </tbody>\n",
        "</table>\n",
        "</div>"
       ],
       "metadata": {},
       "output_type": "pyout",
       "prompt_number": 20,
       "text": [
        "    actual  predicted  probability\n",
        "1        1          1     0.540197\n",
        "2        1          1     0.540197\n",
        "3        0          1     0.609135\n",
        "4        1          1     0.540197\n",
        "5        0          1     0.540197\n",
        "6        1          1     0.997346\n",
        "7        0          0     0.130520\n",
        "8        0          1     0.661814\n",
        "9        0          0     0.443641\n",
        "10       1          1     0.540197\n",
        "11       1          1     0.984262\n",
        "12       0          1     0.540197\n",
        "13       1          1     0.999997\n",
        "14       0          0     0.016285"
       ]
      }
     ],
     "prompt_number": 20
    },
    {
     "cell_type": "code",
     "collapsed": false,
     "input": [
      "svc_output.to_pickle('./Post_Mid_Evaluation/svc/svc_output')"
     ],
     "language": "python",
     "metadata": {},
     "outputs": [],
     "prompt_number": 22
    },
    {
     "cell_type": "code",
     "collapsed": false,
     "input": [],
     "language": "python",
     "metadata": {},
     "outputs": []
    }
   ],
   "metadata": {}
  }
 ]
}