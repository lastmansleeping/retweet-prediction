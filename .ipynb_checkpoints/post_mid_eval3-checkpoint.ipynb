{
 "metadata": {
  "name": "",
  "signature": "sha256:f9cc68698c873ca19e3e50d1e1755393c0a99e8486df850b85ad73de80b94454"
 },
 "nbformat": 3,
 "nbformat_minor": 0,
 "worksheets": [
  {
   "cells": [
    {
     "cell_type": "code",
     "collapsed": false,
     "input": [
      "import pandas as pd\n",
      "import numpy as np\n",
      "import re\n",
      "import matplotlib.pyplot as plt\n",
      "import nltk\n",
      "from sklearn.linear_model import LogisticRegression\n",
      "from sklearn.cross_validation import train_test_split\n",
      "from sklearn import metrics\n",
      "\n",
      "%matplotlib inline"
     ],
     "language": "python",
     "metadata": {},
     "outputs": [],
     "prompt_number": 3
    },
    {
     "cell_type": "code",
     "collapsed": false,
     "input": [
      "df1 = pd.read_pickle('./Mid_Evaluation/data_after_stage5')\n",
      "df2 = pd.read_pickle('./Post_Mid_Evaluation/naive_bayes_output')"
     ],
     "language": "python",
     "metadata": {},
     "outputs": [],
     "prompt_number": 4
    },
    {
     "cell_type": "code",
     "collapsed": false,
     "input": [
      "df2.head()"
     ],
     "language": "python",
     "metadata": {},
     "outputs": [
      {
       "html": [
        "<div style=\"max-height:1000px;max-width:1500px;overflow:auto;\">\n",
        "<table border=\"1\" class=\"dataframe\">\n",
        "  <thead>\n",
        "    <tr style=\"text-align: right;\">\n",
        "      <th></th>\n",
        "      <th>actual</th>\n",
        "      <th>predicted</th>\n",
        "      <th>probability</th>\n",
        "    </tr>\n",
        "  </thead>\n",
        "  <tbody>\n",
        "    <tr>\n",
        "      <th>0</th>\n",
        "      <td> 0</td>\n",
        "      <td> 1</td>\n",
        "      <td> 0.543310</td>\n",
        "    </tr>\n",
        "    <tr>\n",
        "      <th>1</th>\n",
        "      <td> 0</td>\n",
        "      <td> 0</td>\n",
        "      <td> 0.324815</td>\n",
        "    </tr>\n",
        "    <tr>\n",
        "      <th>2</th>\n",
        "      <td> 0</td>\n",
        "      <td> 0</td>\n",
        "      <td> 0.305851</td>\n",
        "    </tr>\n",
        "    <tr>\n",
        "      <th>3</th>\n",
        "      <td> 1</td>\n",
        "      <td> 1</td>\n",
        "      <td> 0.651644</td>\n",
        "    </tr>\n",
        "    <tr>\n",
        "      <th>4</th>\n",
        "      <td> 0</td>\n",
        "      <td> 0</td>\n",
        "      <td> 0.309178</td>\n",
        "    </tr>\n",
        "  </tbody>\n",
        "</table>\n",
        "</div>"
       ],
       "metadata": {},
       "output_type": "pyout",
       "prompt_number": 5,
       "text": [
        "   actual  predicted  probability\n",
        "0       0          1     0.543310\n",
        "1       0          0     0.324815\n",
        "2       0          0     0.305851\n",
        "3       1          1     0.651644\n",
        "4       0          0     0.309178"
       ]
      }
     ],
     "prompt_number": 5
    },
    {
     "cell_type": "code",
     "collapsed": false,
     "input": [
      "df2.count()"
     ],
     "language": "python",
     "metadata": {},
     "outputs": [
      {
       "metadata": {},
       "output_type": "pyout",
       "prompt_number": 6,
       "text": [
        "actual         18071\n",
        "predicted      18071\n",
        "probability    18071\n",
        "dtype: int64"
       ]
      }
     ],
     "prompt_number": 6
    },
    {
     "cell_type": "code",
     "collapsed": false,
     "input": [
      "df1['dominance'].describe()"
     ],
     "language": "python",
     "metadata": {},
     "outputs": [
      {
       "metadata": {},
       "output_type": "pyout",
       "prompt_number": 11,
       "text": [
        "count    18071.000000\n",
        "mean         0.313989\n",
        "std          0.526668\n",
        "min         -2.860000\n",
        "25%          0.000000\n",
        "50%          0.000000\n",
        "75%          0.673333\n",
        "max          2.860000\n",
        "dtype: float64"
       ]
      }
     ],
     "prompt_number": 11
    },
    {
     "cell_type": "code",
     "collapsed": false,
     "input": [
      "df1.columns"
     ],
     "language": "python",
     "metadata": {},
     "outputs": [
      {
       "metadata": {},
       "output_type": "pyout",
       "prompt_number": 12,
       "text": [
        "Index([u'screenName', u'tweet', u'retweet', u'direct_message', u'username', u'hashtag', u'url', u'exclamation', u'question', u'positive_term', u'negative_term', u'positive_emoticon', u'negative_emoticon', u'valence', u'arousal', u'dominance', u'terms'], dtype='object')"
       ]
      }
     ],
     "prompt_number": 12
    },
    {
     "cell_type": "code",
     "collapsed": false,
     "input": [
      "df1['terms'] = df2['probability']"
     ],
     "language": "python",
     "metadata": {},
     "outputs": [],
     "prompt_number": 13
    },
    {
     "cell_type": "code",
     "collapsed": false,
     "input": [
      "[(df1.ix[i, 'terms'],df2.ix[i, 'probability']) for i in range(5)]"
     ],
     "language": "python",
     "metadata": {},
     "outputs": [
      {
       "metadata": {},
       "output_type": "pyout",
       "prompt_number": 18,
       "text": [
        "[(0.54331031429829535, 0.54331031429829535),\n",
        " (0.32481498365673217, 0.32481498365673217),\n",
        " (0.30585103969098471, 0.30585103969098471),\n",
        " (0.65164366640651683, 0.65164366640651683),\n",
        " (0.3091777426283267, 0.3091777426283267)]"
       ]
      }
     ],
     "prompt_number": 18
    },
    {
     "cell_type": "code",
     "collapsed": false,
     "input": [
      "df1.to_pickle('./Post_Mid_Evaluation/final_feature_tweet_file')"
     ],
     "language": "python",
     "metadata": {},
     "outputs": [],
     "prompt_number": 19
    },
    {
     "cell_type": "code",
     "collapsed": false,
     "input": [
      "columns = df1.columns"
     ],
     "language": "python",
     "metadata": {},
     "outputs": [],
     "prompt_number": 20
    },
    {
     "cell_type": "code",
     "collapsed": false,
     "input": [
      "columns = list(columns)\n",
      "columns"
     ],
     "language": "python",
     "metadata": {},
     "outputs": [
      {
       "metadata": {},
       "output_type": "pyout",
       "prompt_number": 24,
       "text": [
        "['screenName',\n",
        " 'tweet',\n",
        " 'retweet',\n",
        " 'direct_message',\n",
        " 'username',\n",
        " 'hashtag',\n",
        " 'url',\n",
        " 'exclamation',\n",
        " 'question',\n",
        " 'positive_term',\n",
        " 'negative_term',\n",
        " 'positive_emoticon',\n",
        " 'negative_emoticon',\n",
        " 'valence',\n",
        " 'arousal',\n",
        " 'dominance',\n",
        " 'terms']"
       ]
      }
     ],
     "prompt_number": 24
    },
    {
     "cell_type": "code",
     "collapsed": false,
     "input": [
      "del columns[columns.index('screenName')]"
     ],
     "language": "python",
     "metadata": {},
     "outputs": [],
     "prompt_number": 27
    },
    {
     "cell_type": "code",
     "collapsed": false,
     "input": [
      "del columns[columns.index('tweet')]"
     ],
     "language": "python",
     "metadata": {},
     "outputs": [],
     "prompt_number": 28
    },
    {
     "cell_type": "code",
     "collapsed": false,
     "input": [
      "del columns[columns.index('retweet')]"
     ],
     "language": "python",
     "metadata": {},
     "outputs": [],
     "prompt_number": 33
    },
    {
     "cell_type": "code",
     "collapsed": false,
     "input": [
      "columns"
     ],
     "language": "python",
     "metadata": {},
     "outputs": [
      {
       "metadata": {},
       "output_type": "pyout",
       "prompt_number": 34,
       "text": [
        "['direct_message',\n",
        " 'username',\n",
        " 'hashtag',\n",
        " 'url',\n",
        " 'exclamation',\n",
        " 'question',\n",
        " 'positive_term',\n",
        " 'negative_term',\n",
        " 'positive_emoticon',\n",
        " 'negative_emoticon',\n",
        " 'valence',\n",
        " 'arousal',\n",
        " 'dominance',\n",
        " 'terms']"
       ]
      }
     ],
     "prompt_number": 34
    },
    {
     "cell_type": "code",
     "collapsed": false,
     "input": [
      "features = df1[columns]"
     ],
     "language": "python",
     "metadata": {},
     "outputs": [],
     "prompt_number": 35
    },
    {
     "cell_type": "code",
     "collapsed": false,
     "input": [
      "features.head()"
     ],
     "language": "python",
     "metadata": {},
     "outputs": [
      {
       "html": [
        "<div style=\"max-height:1000px;max-width:1500px;overflow:auto;\">\n",
        "<table border=\"1\" class=\"dataframe\">\n",
        "  <thead>\n",
        "    <tr style=\"text-align: right;\">\n",
        "      <th></th>\n",
        "      <th>direct_message</th>\n",
        "      <th>username</th>\n",
        "      <th>hashtag</th>\n",
        "      <th>url</th>\n",
        "      <th>exclamation</th>\n",
        "      <th>question</th>\n",
        "      <th>positive_term</th>\n",
        "      <th>negative_term</th>\n",
        "      <th>positive_emoticon</th>\n",
        "      <th>negative_emoticon</th>\n",
        "      <th>valence</th>\n",
        "      <th>arousal</th>\n",
        "      <th>dominance</th>\n",
        "      <th>terms</th>\n",
        "    </tr>\n",
        "  </thead>\n",
        "  <tbody>\n",
        "    <tr>\n",
        "      <th>0</th>\n",
        "      <td> 0</td>\n",
        "      <td> 1</td>\n",
        "      <td> 0</td>\n",
        "      <td> 0</td>\n",
        "      <td> 1</td>\n",
        "      <td> 0</td>\n",
        "      <td> 0</td>\n",
        "      <td> 0</td>\n",
        "      <td> 0</td>\n",
        "      <td> 0</td>\n",
        "      <td> 0.7600</td>\n",
        "      <td>-0.650000</td>\n",
        "      <td> 1.1100</td>\n",
        "      <td> 0.543310</td>\n",
        "    </tr>\n",
        "    <tr>\n",
        "      <th>1</th>\n",
        "      <td> 0</td>\n",
        "      <td> 0</td>\n",
        "      <td> 1</td>\n",
        "      <td> 0</td>\n",
        "      <td> 0</td>\n",
        "      <td> 0</td>\n",
        "      <td> 0</td>\n",
        "      <td> 0</td>\n",
        "      <td> 0</td>\n",
        "      <td> 0</td>\n",
        "      <td> 1.1100</td>\n",
        "      <td> 0.216667</td>\n",
        "      <td> 0.7300</td>\n",
        "      <td> 0.324815</td>\n",
        "    </tr>\n",
        "    <tr>\n",
        "      <th>2</th>\n",
        "      <td> 0</td>\n",
        "      <td> 1</td>\n",
        "      <td> 0</td>\n",
        "      <td> 0</td>\n",
        "      <td> 0</td>\n",
        "      <td> 0</td>\n",
        "      <td> 0</td>\n",
        "      <td> 0</td>\n",
        "      <td> 0</td>\n",
        "      <td> 0</td>\n",
        "      <td> 2.2500</td>\n",
        "      <td>-1.290000</td>\n",
        "      <td> 1.4000</td>\n",
        "      <td> 0.305851</td>\n",
        "    </tr>\n",
        "    <tr>\n",
        "      <th>3</th>\n",
        "      <td> 0</td>\n",
        "      <td> 0</td>\n",
        "      <td> 0</td>\n",
        "      <td> 0</td>\n",
        "      <td> 0</td>\n",
        "      <td> 0</td>\n",
        "      <td> 0</td>\n",
        "      <td> 0</td>\n",
        "      <td> 0</td>\n",
        "      <td> 0</td>\n",
        "      <td> 0.9425</td>\n",
        "      <td>-1.572500</td>\n",
        "      <td> 0.7975</td>\n",
        "      <td> 0.651644</td>\n",
        "    </tr>\n",
        "    <tr>\n",
        "      <th>4</th>\n",
        "      <td> 0</td>\n",
        "      <td> 0</td>\n",
        "      <td> 0</td>\n",
        "      <td> 0</td>\n",
        "      <td> 0</td>\n",
        "      <td> 0</td>\n",
        "      <td> 0</td>\n",
        "      <td> 0</td>\n",
        "      <td> 0</td>\n",
        "      <td> 0</td>\n",
        "      <td> 2.2400</td>\n",
        "      <td> 0.000000</td>\n",
        "      <td> 0.8300</td>\n",
        "      <td> 0.309178</td>\n",
        "    </tr>\n",
        "  </tbody>\n",
        "</table>\n",
        "</div>"
       ],
       "metadata": {},
       "output_type": "pyout",
       "prompt_number": 36,
       "text": [
        "   direct_message  username  hashtag  url  exclamation  question  \\\n",
        "0               0         1        0    0            1         0   \n",
        "1               0         0        1    0            0         0   \n",
        "2               0         1        0    0            0         0   \n",
        "3               0         0        0    0            0         0   \n",
        "4               0         0        0    0            0         0   \n",
        "\n",
        "   positive_term  negative_term  positive_emoticon  negative_emoticon  \\\n",
        "0              0              0                  0                  0   \n",
        "1              0              0                  0                  0   \n",
        "2              0              0                  0                  0   \n",
        "3              0              0                  0                  0   \n",
        "4              0              0                  0                  0   \n",
        "\n",
        "   valence   arousal  dominance     terms  \n",
        "0   0.7600 -0.650000     1.1100  0.543310  \n",
        "1   1.1100  0.216667     0.7300  0.324815  \n",
        "2   2.2500 -1.290000     1.4000  0.305851  \n",
        "3   0.9425 -1.572500     0.7975  0.651644  \n",
        "4   2.2400  0.000000     0.8300  0.309178  "
       ]
      }
     ],
     "prompt_number": 36
    },
    {
     "cell_type": "code",
     "collapsed": false,
     "input": [
      "#divide into training and test\n",
      "size = df1."
     ],
     "language": "python",
     "metadata": {},
     "outputs": []
    },
    {
     "cell_type": "code",
     "collapsed": false,
     "input": [
      "a = int(df1['url'].count())"
     ],
     "language": "python",
     "metadata": {},
     "outputs": [],
     "prompt_number": 40
    },
    {
     "cell_type": "code",
     "collapsed": false,
     "input": [
      "a"
     ],
     "language": "python",
     "metadata": {},
     "outputs": [
      {
       "metadata": {},
       "output_type": "pyout",
       "prompt_number": 41,
       "text": [
        "18071"
       ]
      }
     ],
     "prompt_number": 41
    },
    {
     "cell_type": "code",
     "collapsed": false,
     "input": [],
     "language": "python",
     "metadata": {},
     "outputs": []
    },
    {
     "cell_type": "code",
     "collapsed": false,
     "input": [],
     "language": "python",
     "metadata": {},
     "outputs": []
    }
   ],
   "metadata": {}
  }
 ]
}