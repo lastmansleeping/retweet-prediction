{
 "metadata": {
  "name": "",
  "signature": "sha256:6bd3de2d480ec03a637ac25452d6aaed6a17437f9a2d73cca20dda5373b9a7af"
 },
 "nbformat": 3,
 "nbformat_minor": 0,
 "worksheets": [
  {
   "cells": [
    {
     "cell_type": "code",
     "collapsed": false,
     "input": [
      "import nltk\n",
      "from nltk.stem.snowball import SnowballStemmer"
     ],
     "language": "python",
     "metadata": {},
     "outputs": [],
     "prompt_number": 26
    },
    {
     "cell_type": "code",
     "collapsed": false,
     "input": [
      "text = nltk.word_tokenize(\"when is it happening\")\n",
      "stemmer = SnowballStemmer(\"english\")\n",
      "stemmed_tokens = [stemmer.stem(t) for t in text]\n",
      "x = nltk.pos_tag(stemmed_tokens)\n",
      "x\n",
      "\n",
      "\n"
     ],
     "language": "python",
     "metadata": {},
     "outputs": [
      {
       "metadata": {},
       "output_type": "pyout",
       "prompt_number": 54,
       "text": [
        "[(u'when', 'WRB'), ('is', 'VBZ'), ('it', 'PRP'), (u'happen', 'RB')]"
       ]
      }
     ],
     "prompt_number": 54
    },
    {
     "cell_type": "code",
     "collapsed": false,
     "input": [
      "text = nltk.Text(word.lower() for word in nltk.corpus.brown.words())\n",
      "text.similar('woman')"
     ],
     "language": "python",
     "metadata": {},
     "outputs": [
      {
       "output_type": "stream",
       "stream": "stdout",
       "text": [
        "man time day year car moment world family house country child boy\n",
        "state job way war girl place word work\n"
       ]
      }
     ],
     "prompt_number": 6
    },
    {
     "cell_type": "code",
     "collapsed": false,
     "input": [
      "from urllib import urlopen\n",
      "from bs4 import BeautifulSoup\n",
      "from readability.readability import Document\n",
      "\n",
      "url = \"http://venturebeat.com/2014/07/04/facebooks-little-social-experiment-got-you-bummed-out-get-over-it/\"\n",
      "html = urlopen(url).read()\n",
      "soup = BeautifulSoup(html,\"lxml\")\n",
      "html[:500]"
     ],
     "language": "python",
     "metadata": {},
     "outputs": [
      {
       "metadata": {},
       "output_type": "pyout",
       "prompt_number": 1,
       "text": [
        "'<!DOCTYPE html>\\n<!--[if lt IE 7]> <html class=\"no-js ie6 oldie\" lang=\"en-US\" xmlns:og=\"http://opengraphprotocol.org/schema/\" xmlns:fb=\"http://www.facebook.com/2008/fbml\" xmlns:addthis=\"http://www.addthis.com/help/api-spec\"> <![endif]-->\\n<!--[if IE 7]>    <html class=\"no-js ie7 oldie\" lang=\"en-US\" xmlns:og=\"http://opengraphprotocol.org/schema/\" xmlns:fb=\"http://www.facebook.com/2008/fbml\" xmlns:addthis=\"http://www.addthis.com/help/api-spec\"> <![endif]-->\\n<!--[if IE 8]>    <html class=\"no-js ie8 o'"
       ]
      }
     ],
     "prompt_number": 1
    },
    {
     "cell_type": "code",
     "collapsed": false,
     "input": [
      "print(soup.get_text()[:50])"
     ],
     "language": "python",
     "metadata": {},
     "outputs": [
      {
       "output_type": "stream",
       "stream": "stdout",
       "text": [
        "\n",
        "Gaming execs:\u00a0Join 180 select\u00a0leaders from King, \n"
       ]
      }
     ],
     "prompt_number": 4
    },
    {
     "cell_type": "code",
     "collapsed": false,
     "input": [
      "readable_article = Document(html).summary()\n",
      "readable_title = Document(html).title()\n",
      "soup = BeautifulSoup(readable_article)\n",
      "print '*** TITLE *** \\n\\\"' + readable_title + '\\\"\\n'\n",
      "print '*** CONTENT *** \\n\\\"' + soup.text[:500] + '[...]\\\"'"
     ],
     "language": "python",
     "metadata": {},
     "outputs": [
      {
       "output_type": "stream",
       "stream": "stdout",
       "text": [
        "*** TITLE *** \n",
        "\"Facebook\u2019s little social experiment got you bummed out? Get over it | VentureBeat | Social | by Simon Cohen\"\n",
        "\n",
        "*** CONTENT *** \n",
        "\"\n",
        "Gaming execs:\u00a0Join 180 select\u00a0leaders from King, Glu, Rovio, Unity, Facebook, and more\u00a0to plan your path\u00a0to global domination in 2015.\u00a0GamesBeat Summit is invite-only -- apply here.\u00a0Ticket prices increase on April 3rd!\r\n",
        "\r\n",
        "OP-ED \u2014 You would think by the reaction some are having to it that Facebook\u2019s recent admission that it experimented with some people\u2019s feeds is tantamount to Watergate.\n",
        "You would think there had been some terrible violation of privacy or a breach of confidential user data. Ins[...]\"\n"
       ]
      }
     ],
     "prompt_number": 3
    },
    {
     "cell_type": "code",
     "collapsed": false,
     "input": [
      "tokens = [word for sent in nltk.sent_tokenize(soup.text) for word in nltk.word_tokenize(sent)]\n",
      "\n",
      "for token in sorted(set(tokens))[:30]:\n",
      "    print token + ' [' + str(tokens.count(token)) + ']'"
     ],
     "language": "python",
     "metadata": {},
     "outputs": [
      {
       "output_type": "stream",
       "stream": "stdout",
       "text": [
        "! [1]\n",
        "( [1]\n",
        ") [1]\n",
        ", [34]\n",
        "-- [1]\n",
        ". [46]\n",
        "180 [1]\n",
        "2012 [1]\n",
        "2015 [1]\n",
        "3rd [1]\n",
        "700,000 [3]\n",
        ": [6]\n",
        "; [1]\n",
        "? [9]\n",
        "A/B [2]\n",
        "According [2]\n",
        "Actually [1]\n",
        "After [2]\n",
        "All [1]\n",
        "And [3]\n",
        "April [1]\n",
        "Before [1]\n",
        "Believe [1]\n",
        "Blame [1]\n",
        "But [2]\n",
        "BuzzFeed\u2019s [1]\n",
        "Buzzfeed [1]\n",
        "Chime [1]\n",
        "Could [1]\n",
        "Count [1]\n"
       ]
      }
     ],
     "prompt_number": 9
    },
    {
     "cell_type": "code",
     "collapsed": false,
     "input": [
      "from nltk.stem.snowball import SnowballStemmer\n",
      "\n",
      "stemmer = SnowballStemmer(\"english\")\n",
      "stemmed_tokens = [stemmer.stem(t) for t in tokens]\n",
      "\n",
      "for token in sorted(set(stemmed_tokens))[50:75]:\n",
      "    print token + ' [' + str(stemmed_tokens.count(token)) + ']'\n"
     ],
     "language": "python",
     "metadata": {},
     "outputs": [
      {
       "output_type": "stream",
       "stream": "stdout",
       "text": [
        "attempt [1]\n",
        "back [1]\n",
        "balanc [2]\n",
        "be [11]\n",
        "becaus [2]\n",
        "been [2]\n",
        "befor [1]\n",
        "behavior [1]\n",
        "believ [1]\n",
        "besid [1]\n",
        "better [1]\n",
        "blame [2]\n",
        "breach [1]\n",
        "built [1]\n",
        "bum [1]\n",
        "but [4]\n",
        "button [1]\n",
        "buzzfe [2]\n",
        "by [5]\n",
        "came [2]\n",
        "can [3]\n",
        "cat [1]\n",
        "charg [1]\n",
        "children [1]\n",
        "chime [1]\n"
       ]
      }
     ],
     "prompt_number": 11
    },
    {
     "cell_type": "code",
     "collapsed": false,
     "input": [
      "nltk."
     ],
     "language": "python",
     "metadata": {},
     "outputs": []
    }
   ],
   "metadata": {}
  }
 ]
}