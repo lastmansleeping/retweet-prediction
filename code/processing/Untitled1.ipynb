{
 "metadata": {
  "name": "",
  "signature": "sha256:5763e614ac2e17cf099fdd6ad394ce3ce6ec89ee66a72406da58f76c12565da2"
 },
 "nbformat": 3,
 "nbformat_minor": 0,
 "worksheets": [
  {
   "cells": [
    {
     "cell_type": "code",
     "collapsed": false,
     "input": [
      "import pandas as pd"
     ],
     "language": "python",
     "metadata": {},
     "outputs": [],
     "prompt_number": 1
    },
    {
     "cell_type": "code",
     "collapsed": false,
     "input": [
      "df = pd.read_pickle('./Mid_Evaluation/data_after_stage5')"
     ],
     "language": "python",
     "metadata": {},
     "outputs": [],
     "prompt_number": 2
    },
    {
     "cell_type": "code",
     "collapsed": false,
     "input": [
      "df.ix[3]"
     ],
     "language": "python",
     "metadata": {},
     "outputs": [
      {
       "metadata": {},
       "output_type": "pyout",
       "prompt_number": 5,
       "text": [
        "screenName                                                   ewokharry\n",
        "tweet                RT @denouementharry: \"HARRY SAID \"MARAMING SAL...\n",
        "retweet                                                              1\n",
        "direct_message                                                       0\n",
        "username                                                             0\n",
        "hashtag                                                              0\n",
        "url                                                                  0\n",
        "exclamation                                                          0\n",
        "question                                                             0\n",
        "positive_term                                                        0\n",
        "negative_term                                                        0\n",
        "positive_emoticon                                                    0\n",
        "negative_emoticon                                                    0\n",
        "valence                                                         0.9425\n",
        "arousal                                                        -1.5725\n",
        "dominance                                                       0.7975\n",
        "terms                                                                0\n",
        "Name: 3, dtype: object"
       ]
      }
     ],
     "prompt_number": 5
    },
    {
     "cell_type": "code",
     "collapsed": false,
     "input": [],
     "language": "python",
     "metadata": {},
     "outputs": []
    }
   ],
   "metadata": {}
  }
 ]
}