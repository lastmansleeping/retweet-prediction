{
 "metadata": {
  "name": "",
  "signature": "sha256:f72572e72aa047be2bcabbbf0d5c47354d800c6d4d61ab02b891d21a05ba98cb"
 },
 "nbformat": 3,
 "nbformat_minor": 0,
 "worksheets": [
  {
   "cells": [
    {
     "cell_type": "code",
     "collapsed": false,
     "input": [
      "import pandas as pd\n",
      "\n",
      "dataset = zip(screenName,tweet)\n",
      "df = pd.DataFrame(data = dataset, columns=['screenName','tweet'])\n",
      "df.to_pickle('tweets1.csv')\n",
      "df3 = pd.read_pickle('tweets1.csv')\n",
      "df3.head()"
     ],
     "language": "python",
     "metadata": {},
     "outputs": []
    },
    {
     "cell_type": "code",
     "collapsed": false,
     "input": [
      "import tweepy\n",
      "import json\n",
      "import sys\n",
      "import pprint\n",
      "import nltk\n",
      "\n",
      "timeStamp = []\n",
      "\n",
      "# Authentication details. To  obtain these visit dev.twitter.com\n",
      "'''\n",
      "consumer_key = 'aLg2CAbe7Gv7licjE8rVRB5dL'\n",
      "consumer_secret = 'Rc8JG5wdBPZq9orsYhGz5Rbr6hGlRP4pMqngv5L9vtf5Cdw5A6'\n",
      "access_token = '99906272-BZc0bvmL7H1p86aIZ7Urp5f0TYJ3nEwj8p2V6QBNy'\n",
      "access_token_secret = 'nwO9PpaVvxXLoDeTinVFpLyJU24y4ffXQetHtZE8RgBc2'\n",
      "'''\n",
      "consumer_key = 'SzEuRlLopNRIkfFuLa84FFXlp'\n",
      "consumer_secret = 'aKQwJshQ9h9wvAXDIyLxlTz6fK4BdF38RoNT7wFBLNL2waclQE'\n",
      "access_token = '99906272-EmVsk8TRvUoMqfVA2tmVqOrVzA2g5FZFRK3ITVEaa'\n",
      "access_token_secret = '6km8K4erpyMzVrmIUiDsH5TPFii2tteEzXdikHUuq0Qju'\n",
      "count = 0\n",
      "\n",
      "\n",
      "\n",
      "# This is the listener, resposible for receiving data\n",
      "class StdOutListener(tweepy.StreamListener):\n",
      "    count = 0\n",
      "    def on_data(self, data):\n",
      "        try:\n",
      "            l.count = l.count + 1\n",
      "            if l.count > 100000:\n",
      "                sys.exit(\"Ended\")\n",
      "                \n",
      "            #print l.count\n",
      "            # Twitter returns data in JSON format - we need to decode it first\n",
      "            decoded = json.loads(data)\n",
      "            #pp = pprint.PrettyPrinter(indent=4)\n",
      "            #pp.pprint(decoded)\n",
      "            # Also, we convert UTF-8 to ASCII ignoring all bad characters sent by users\n",
      "            #print l.count,'@%s: %s' % (decoded['user']['screen_name'], decoded['text'].encode('ascii', 'ignore')),decoded['created_at']\n",
      "            #print ''\n",
      "            if l.count % 100 == 0:\n",
      "                print l.count\n",
      "            \n",
      "            if l.count % 5000 == 0:\n",
      "                file_name = './tweet_dir/new_tweets' + str(count)\n",
      "                fh = open(file_name,'w')\n",
      "                zipped = zip(screenName, tweet)\n",
      "                pickle.dump(zipped, fh)\n",
      "                fh.close()\n",
      "                screenName = []\n",
      "                tweet = []\n",
      "                \n",
      "                \n",
      "            #print l.count\n",
      "            screenName.append(decoded['user']['screen_name'])\n",
      "            tweet.append(decoded['text'].encode('ascii', 'ignore'))\n",
      "            #timestamp.append(decoded['created_at'])\n",
      "            #print str(decoded['user']['screen_name']),str(decoded['text'].encode('ascii', 'ignore'))\n",
      "            #print decoded\n",
      "            #if decoded['retweeted']:\n",
      "            \n",
      "            return True\n",
      "        \n",
      "        except:\n",
      "            pass\n",
      "            \n",
      "\n",
      "    def on_error(self, status):\n",
      "        pass\n",
      "\n",
      "if __name__ == '__main__':\n",
      "    count = 1\n",
      "    l = StdOutListener()\n",
      "    auth = tweepy.OAuthHandler(consumer_key, consumer_secret)\n",
      "    auth.set_access_token(access_token, access_token_secret)\n",
      "    \n",
      "    # There are different kinds of streams: public stream, user stream, multi-user streams\n",
      "    # In this example follow #programming tag\n",
      "    # For more details refer to https://dev.twitter.com/docs/streaming-apis\n",
      "    #stream = tweepy.Stream(auth, l)\n",
      "    #.filter(track=['2015','oscars','india','america','isis','avengers'])\n",
      "    screenName = []\n",
      "    tweet = []\n",
      "    while True:\n",
      "        try:\n",
      "            sapi = tweepy.streaming.Stream(auth, l)\n",
      "            sapi.filter(track=['2015','oscars','india','america','isis','avengers'])\n",
      "        except: \n",
      "            continue\n"
     ],
     "language": "python",
     "metadata": {},
     "outputs": []
    },
    {
     "cell_type": "code",
     "collapsed": false,
     "input": [
      "import tweepy\n",
      "import json\n",
      "\n",
      "# Authentication details. To  obtain these visit dev.twitter.com\n",
      "consumer_key = 'SzEuRlLopNRIkfFuLa84FFXlp'\n",
      "consumer_secret = 'aKQwJshQ9h9wvAXDIyLxlTz6fK4BdF38RoNT7wFBLNL2waclQE'\n",
      "access_token = '99906272-EmVsk8TRvUoMqfVA2tmVqOrVzA2g5FZFRK3ITVEaa'\n",
      "access_token_secret = '6km8K4erpyMzVrmIUiDsH5TPFii2tteEzXdikHUuq0Qju'\n",
      "\n",
      "# This is the listener, resposible for receiving data\n",
      "class StdOutListener(tweepy.StreamListener):\n",
      "    def on_data(self, data):\n",
      "        # Twitter returns data in JSON format - we need to decode it first\n",
      "        decoded = json.loads(data)\n",
      "\n",
      "        # Also, we convert UTF-8 to ASCII ignoring all bad characters sent by users\n",
      "        print decoded\n",
      "        print ''\n",
      "        return True\n",
      "\n",
      "    def on_error(self, status):\n",
      "        print status\n",
      "\n",
      "if __name__ == '__main__':\n",
      "    l = StdOutListener()\n",
      "    auth = tweepy.OAuthHandler(consumer_key, consumer_secret)\n",
      "    auth.set_access_token(access_token, access_token_secret)\n",
      "\n",
      "    print \"Showing all new tweets for #programming:\"\n",
      "\n",
      "    # There are different kinds of streams: public stream, user stream, multi-user streams\n",
      "    # In this example follow #programming tag\n",
      "    # For more details refer to https://dev.twitter.com/docs/streaming-apis\n",
      "    stream = tweepy.Stream(auth, l)\n",
      "    stream.filter(track=['askpc'])"
     ],
     "language": "python",
     "metadata": {},
     "outputs": [
      {
       "output_type": "stream",
       "stream": "stdout",
       "text": [
        "Showing all new tweets for #programming:\n",
        "{u'contributors': None, u'truncated': False, u'text': u'RT @priyankachopra: Thank u U guys! Sorry I could t answer all questions  http://t.co/nIabf34e2T', u'in_reply_to_status_id': None, u'id': 631171516428750849L, u'favorite_count': 0, u'source': u'<a href=\"http://twitter.com/download/android\" rel=\"nofollow\">Twitter for Android</a>', u'retweeted': False, u'coordinates': None, u'timestamp_ms': u'1439317990773', u'entities': {u'user_mentions': [{u'id': 18681139, u'indices': [3, 18], u'id_str': u'18681139', u'screen_name': u'priyankachopra', u'name': u'PRIYANKA '}], u'symbols': [], u'trends': [], u'hashtags': [], u'urls': [{u'url': u'http://t.co/nIabf34e2T', u'indices': [74, 96], u'expanded_url': u'http://twitter.com/PcOurHeartbeat/status/631143902775382016', u'display_url': u'twitter.com/PcOurHeartbeat\\u2026'}]}, u'in_reply_to_screen_name': None, u'id_str': u'631171516428750849', u'retweet_count': 0, u'in_reply_to_user_id': None, u'favorited': False, u'retweeted_status': {u'contributors': None, u'truncated': False, u'text': u'Thank u U guys! Sorry I could t answer all questions  http://t.co/nIabf34e2T', u'in_reply_to_status_id': None, u'id': 631144247857684480L, u'favorite_count': 497, u'source': u'<a href=\"http://twitterrific.com\" rel=\"nofollow\">Twitterrific</a>', u'quoted_status_id': 631143902775382016L, u'retweeted': False, u'coordinates': None, u'quoted_status': {u'contributors': None, u'truncated': False, u'text': u'#AskPC is trending worldwide and at rank 1 in India @priyankachopra @TeamPriyanka http://t.co/mve5vv2xpc', u'in_reply_to_status_id': None, u'id': 631143902775382016L, u'favorite_count': 0, u'source': u'<a href=\"http://twitter.com/download/iphone\" rel=\"nofollow\">Twitter for iPhone</a>', u'retweeted': False, u'coordinates': None, u'entities': {u'symbols': [], u'media': [{u'expanded_url': u'http://twitter.com/PcOurHeartbeat/status/631143902775382016/photo/1', u'display_url': u'pic.twitter.com/mve5vv2xpc', u'url': u'http://t.co/mve5vv2xpc', u'media_url_https': u'https://pbs.twimg.com/media/CMJFybiUYAEoxXB.jpg', u'id_str': u'631143630472765441', u'sizes': {u'small': {u'h': 438, u'resize': u'fit', u'w': 340}, u'large': {u'h': 732, u'resize': u'fit', u'w': 567}, u'medium': {u'h': 732, u'resize': u'fit', u'w': 567}, u'thumb': {u'h': 150, u'resize': u'crop', u'w': 150}}, u'indices': [82, 104], u'type': u'photo', u'id': 631143630472765441L, u'media_url': u'http://pbs.twimg.com/media/CMJFybiUYAEoxXB.jpg'}], u'hashtags': [{u'indices': [0, 6], u'text': u'AskPC'}], u'user_mentions': [{u'id': 18681139, u'indices': [52, 67], u'id_str': u'18681139', u'screen_name': u'priyankachopra', u'name': u'PRIYANKA '}, {u'id': 61470292, u'indices': [68, 81], u'id_str': u'61470292', u'screen_name': u'TeamPriyanka', u'name': u'Team Priyanka Chopra'}], u'trends': [], u'urls': []}, u'in_reply_to_screen_name': None, u'id_str': u'631143902775382016', u'retweet_count': 0, u'in_reply_to_user_id': None, u'favorited': False, u'user': {u'follow_request_sent': None, u'profile_use_background_image': True, u'default_profile_image': False, u'id': 784716498, u'verified': False, u'profile_image_url_https': u'https://pbs.twimg.com/profile_images/625911796872822785/j6m3WEbs_normal.jpg', u'profile_sidebar_fill_color': u'DDEEF6', u'profile_text_color': u'333333', u'followers_count': 19654, u'profile_sidebar_border_color': u'000000', u'id_str': u'784716498', u'profile_background_color': u'131516', u'listed_count': 36, u'profile_background_image_url_https': u'https://pbs.twimg.com/profile_background_images/517786846521077760/ClRmSNAI.jpeg', u'utc_offset': 19800, u'statuses_count': 15721, u'description': u'Followed by @priyankachopra | #PCmaniacs Follow us to get all the updates on Priyanka. instagram @PCourHeartBeat', u'friends_count': 20, u'location': u'Worldwide', u'profile_link_color': u'89C9FA', u'profile_image_url': u'http://pbs.twimg.com/profile_images/625911796872822785/j6m3WEbs_normal.jpg', u'following': None, u'geo_enabled': True, u'profile_banner_url': u'https://pbs.twimg.com/profile_banners/784716498/1438063516', u'profile_background_image_url': u'http://pbs.twimg.com/profile_background_images/517786846521077760/ClRmSNAI.jpeg', u'name': u'Priyanka Chopra FC\\u2764\\ufe0f', u'lang': u'en', u'profile_background_tile': True, u'favourites_count': 58, u'screen_name': u'PcOurHeartbeat', u'notifications': None, u'url': u'http://www.PeeCeeOurHeartbeat.Tumblr.com', u'created_at': u'Mon Aug 27 13:55:43 +0000 2012', u'contributors_enabled': False, u'time_zone': u'Mumbai', u'protected': False, u'default_profile': False, u'is_translator': False}, u'geo': None, u'in_reply_to_user_id_str': None, u'possibly_sensitive': False, u'lang': u'en', u'created_at': u'Tue Aug 11 16:43:27 +0000 2015', u'filter_level': u'low', u'in_reply_to_status_id_str': None, u'place': None, u'extended_entities': {u'media': [{u'expanded_url': u'http://twitter.com/PcOurHeartbeat/status/631143902775382016/photo/1', u'display_url': u'pic.twitter.com/mve5vv2xpc', u'url': u'http://t.co/mve5vv2xpc', u'media_url_https': u'https://pbs.twimg.com/media/CMJFybiUYAEoxXB.jpg', u'id_str': u'631143630472765441', u'sizes': {u'small': {u'h': 438, u'resize': u'fit', u'w': 340}, u'large': {u'h': 732, u'resize': u'fit', u'w': 567}, u'medium': {u'h': 732, u'resize': u'fit', u'w': 567}, u'thumb': {u'h': 150, u'resize': u'crop', u'w': 150}}, u'indices': [82, 104], u'type': u'photo', u'id': 631143630472765441L, u'media_url': u'http://pbs.twimg.com/media/CMJFybiUYAEoxXB.jpg'}, {u'expanded_url': u'http://twitter.com/PcOurHeartbeat/status/631143902775382016/photo/1', u'display_url': u'pic.twitter.com/mve5vv2xpc', u'url': u'http://t.co/mve5vv2xpc', u'media_url_https': u'https://pbs.twimg.com/media/CMJFycfUsAAgWnV.jpg', u'id_str': u'631143630728638464', u'sizes': {u'large': {u'h': 747, u'resize': u'fit', u'w': 687}, u'small': {u'h': 369, u'resize': u'fit', u'w': 340}, u'medium': {u'h': 652, u'resize': u'fit', u'w': 600}, u'thumb': {u'h': 150, u'resize': u'crop', u'w': 150}}, u'indices': [82, 104], u'type': u'photo', u'id': 631143630728638464L, u'media_url': u'http://pbs.twimg.com/media/CMJFycfUsAAgWnV.jpg'}]}}, u'entities': {u'user_mentions': [], u'symbols': [], u'trends': [], u'hashtags': [], u'urls': [{u'url': u'http://t.co/nIabf34e2T', u'indices': [54, 76], u'expanded_url': u'http://twitter.com/PcOurHeartbeat/status/631143902775382016', u'display_url': u'twitter.com/PcOurHeartbeat\\u2026'}]}, u'in_reply_to_screen_name': None, u'id_str': u'631144247857684480', u'retweet_count': 171, u'in_reply_to_user_id': None, u'favorited': False, u'user': {u'follow_request_sent': None, u'profile_use_background_image': True, u'default_profile_image': False, u'id': 18681139, u'verified': True, u'profile_image_url_https': u'https://pbs.twimg.com/profile_images/627159997365903360/6NIzswCD_normal.png', u'profile_sidebar_fill_color': u'F6FFD1', u'profile_text_color': u'333333', u'followers_count': 10662998, u'profile_sidebar_border_color': u'FFFFFF', u'id_str': u'18681139', u'profile_background_color': u'0A0A09', u'listed_count': 28686, u'profile_background_image_url_https': u'https://pbs.twimg.com/profile_background_images/378800000121713509/56bc347ed351df4f26239ea79a7ee9f6.jpeg', u'utc_offset': 19800, u'statuses_count': 14720, u'description': u'ACTOR...\\nRECORDING ARTIST..\\nDREAMER..\\nACHIEVER..', u'friends_count': 386, u'location': u'', u'profile_link_color': u'0099CC', u'profile_image_url': u'http://pbs.twimg.com/profile_images/627159997365903360/6NIzswCD_normal.png', u'following': None, u'geo_enabled': False, u'profile_banner_url': u'https://pbs.twimg.com/profile_banners/18681139/1437389786', u'profile_background_image_url': u'http://pbs.twimg.com/profile_background_images/378800000121713509/56bc347ed351df4f26239ea79a7ee9f6.jpeg', u'name': u'PRIYANKA ', u'lang': u'en', u'profile_background_tile': True, u'favourites_count': 91, u'screen_name': u'priyankachopra', u'notifications': None, u'url': u'http://www.iampriyankachopra.com', u'created_at': u'Tue Jan 06 16:05:15 +0000 2009', u'contributors_enabled': False, u'time_zone': u'Mumbai', u'protected': False, u'default_profile': False, u'is_translator': False}, u'geo': None, u'in_reply_to_user_id_str': None, u'possibly_sensitive': False, u'lang': u'en', u'created_at': u'Tue Aug 11 16:44:49 +0000 2015', u'quoted_status_id_str': u'631143902775382016', u'filter_level': u'low', u'in_reply_to_status_id_str': None, u'place': None}, u'user': {u'follow_request_sent': None, u'profile_use_background_image': True, u'default_profile_image': False, u'id': 3311787128L, u'verified': False, u'profile_image_url_https': u'https://pbs.twimg.com/profile_images/630838789238206465/FwrJwVNP_normal.jpg', u'profile_sidebar_fill_color': u'DDEEF6', u'profile_text_color': u'333333', u'followers_count': 17, u'profile_sidebar_border_color': u'C0DEED', u'id_str': u'3311787128', u'profile_background_color': u'C0DEED', u'listed_count': 0, u'profile_background_image_url_https': u'https://abs.twimg.com/images/themes/theme1/bg.png', u'utc_offset': None, u'statuses_count': 1, u'description': None, u'friends_count': 35, u'location': u'', u'profile_link_color': u'0084B4', u'profile_image_url': u'http://pbs.twimg.com/profile_images/630838789238206465/FwrJwVNP_normal.jpg', u'following': None, u'geo_enabled': False, u'profile_background_image_url': u'http://abs.twimg.com/images/themes/theme1/bg.png', u'name': u'priyanka mhatre ', u'lang': u'en', u'profile_background_tile': False, u'favourites_count': 0, u'screen_name': u'mpriyu1425', u'notifications': None, u'url': None, u'created_at': u'Mon Aug 10 20:25:00 +0000 2015', u'contributors_enabled': False, u'time_zone': None, u'protected': False, u'default_profile': True, u'is_translator': False}, u'geo': None, u'in_reply_to_user_id_str': None, u'possibly_sensitive': False, u'lang': u'en', u'created_at': u'Tue Aug 11 18:33:10 +0000 2015', u'filter_level': u'low', u'in_reply_to_status_id_str': None, u'place': None}"
       ]
      },
      {
       "output_type": "stream",
       "stream": "stdout",
       "text": [
        "\n",
        "\n",
        "{u'contributors': None, u'truncated': False, u'text': u'umairsaddiquee: #Fiverr https://t.co/fFGw2Fdor7\\n#AskPC\\nAbu Salem\\n#OwlBaba44Chor\\nKim Kardashian\\n#JasodabenTo7RCR\\nEva Carneiro\\n#ToofaniKabad\\u2026', u'in_reply_to_status_id': None, u'id': 631171528940498944L, u'favorite_count': 0, u'source': u'<a href=\"http://ifttt.com\" rel=\"nofollow\">IFTTT</a>', u'retweeted': False, u'coordinates': None, u'timestamp_ms': u'1439317993756', u'entities': {u'user_mentions': [], u'symbols': [], u'trends': [], u'hashtags': [{u'indices': [16, 23], u'text': u'Fiverr'}, {u'indices': [48, 54], u'text': u'AskPC'}, {u'indices': [65, 79], u'text': u'OwlBaba44Chor'}, {u'indices': [95, 111], u'text': u'JasodabenTo7RCR'}, {u'indices': [125, 138], u'text': u'ToofaniKabad'}], u'urls': [{u'url': u'https://t.co/fFGw2Fdor7', u'indices': [24, 47], u'expanded_url': u'https://www.fiverr.com/s2/293064197e', u'display_url': u'fiverr.com/s2/293064197e'}]}, u'in_reply_to_screen_name': None, u'id_str': u'631171528940498944', u'retweet_count': 0, u'in_reply_to_user_id': None, u'favorited': False, u'user': {u'follow_request_sent': None, u'profile_use_background_image': True, u'default_profile_image': False, u'id': 372978169, u'verified': False, u'profile_image_url_https': u'https://pbs.twimg.com/profile_images/447740382118293504/JkHY4o6y_normal.png', u'profile_sidebar_fill_color': u'C0DFEC', u'profile_text_color': u'333333', u'followers_count': 2326, u'profile_sidebar_border_color': u'A8C7F7', u'id_str': u'372978169', u'profile_background_color': u'022330', u'listed_count': 446, u'profile_background_image_url_https': u'https://abs.twimg.com/images/themes/theme15/bg.png', u'utc_offset': -10800, u'statuses_count': 224770, u'description': u'El portal del micro trabajo en espa\\xf1ol, \\xbfQue har\\xedas por USD 5, 10, 20, 60, 150, 300? #microTrabajadores por precio fijo, el #Fiverr en Espa\\xf1ol !!!', u'friends_count': 2301, u'location': u'Santiago, Chile', u'profile_link_color': u'0084B4', u'profile_image_url': u'http://pbs.twimg.com/profile_images/447740382118293504/JkHY4o6y_normal.png', u'following': None, u'geo_enabled': False, u'profile_banner_url': u'https://pbs.twimg.com/profile_banners/372978169/1398823095', u'profile_background_image_url': u'http://abs.twimg.com/images/themes/theme15/bg.png', u'name': u'microTrabajadores', u'lang': u'es', u'profile_background_tile': False, u'favourites_count': 122, u'screen_name': u'mTrabajadores', u'notifications': None, u'url': u'http://www.microtrabajadores.com', u'created_at': u'Tue Sep 13 19:32:12 +0000 2011', u'contributors_enabled': False, u'time_zone': u'Santiago', u'protected': False, u'default_profile': False, u'is_translator': False}, u'geo': None, u'in_reply_to_user_id_str': None, u'possibly_sensitive': False, u'lang': u'pt', u'created_at': u'Tue Aug 11 18:33:13 +0000 2015', u'filter_level': u'low', u'in_reply_to_status_id_str': None, u'place': None}"
       ]
      },
      {
       "output_type": "stream",
       "stream": "stdout",
       "text": [
        "\n",
        "\n",
        "{u'contributors': None, u'truncated': False, u'text': u'fls53: RT umairsaddiquee: #Fiverr https://t.co/fFGw2Fdor7\\n#AskPC\\nAbu Salem\\n#OwlBaba44Chor\\nKim Kardashian\\n#JasodabenTo7RCR\\nEva Carneiro\\n#To\\u2026', u'in_reply_to_status_id': None, u'id': 631171537530437634L, u'favorite_count': 0, u'source': u'<a href=\"http://ifttt.com\" rel=\"nofollow\">IFTTT</a>', u'retweeted': False, u'coordinates': None, u'timestamp_ms': u'1439317995804', u'entities': {u'user_mentions': [], u'symbols': [], u'trends': [], u'hashtags': [{u'indices': [26, 33], u'text': u'Fiverr'}, {u'indices': [58, 64], u'text': u'AskPC'}, {u'indices': [75, 89], u'text': u'OwlBaba44Chor'}, {u'indices': [105, 121], u'text': u'JasodabenTo7RCR'}, {u'indices': [135, 138], u'text': u'To'}], u'urls': [{u'url': u'https://t.co/fFGw2Fdor7', u'indices': [34, 57], u'expanded_url': u'https://www.fiverr.com/s2/293064197e', u'display_url': u'fiverr.com/s2/293064197e'}]}, u'in_reply_to_screen_name': None, u'id_str': u'631171537530437634', u'retweet_count': 0, u'in_reply_to_user_id': None, u'favorited': False, u'user': {u'follow_request_sent': None, u'profile_use_background_image': True, u'default_profile_image': False, u'id': 372978169, u'verified': False, u'profile_image_url_https': u'https://pbs.twimg.com/profile_images/447740382118293504/JkHY4o6y_normal.png', u'profile_sidebar_fill_color': u'C0DFEC', u'profile_text_color': u'333333', u'followers_count': 2326, u'profile_sidebar_border_color': u'A8C7F7', u'id_str': u'372978169', u'profile_background_color': u'022330', u'listed_count': 446, u'profile_background_image_url_https': u'https://abs.twimg.com/images/themes/theme15/bg.png', u'utc_offset': -10800, u'statuses_count': 224777, u'description': u'El portal del micro trabajo en espa\\xf1ol, \\xbfQue har\\xedas por USD 5, 10, 20, 60, 150, 300? #microTrabajadores por precio fijo, el #Fiverr en Espa\\xf1ol !!!', u'friends_count': 2301, u'location': u'Santiago, Chile', u'profile_link_color': u'0084B4', u'profile_image_url': u'http://pbs.twimg.com/profile_images/447740382118293504/JkHY4o6y_normal.png', u'following': None, u'geo_enabled': False, u'profile_banner_url': u'https://pbs.twimg.com/profile_banners/372978169/1398823095', u'profile_background_image_url': u'http://abs.twimg.com/images/themes/theme15/bg.png', u'name': u'microTrabajadores', u'lang': u'es', u'profile_background_tile': False, u'favourites_count': 122, u'screen_name': u'mTrabajadores', u'notifications': None, u'url': u'http://www.microtrabajadores.com', u'created_at': u'Tue Sep 13 19:32:12 +0000 2011', u'contributors_enabled': False, u'time_zone': u'Santiago', u'protected': False, u'default_profile': False, u'is_translator': False}, u'geo': None, u'in_reply_to_user_id_str': None, u'possibly_sensitive': False, u'lang': u'pt', u'created_at': u'Tue Aug 11 18:33:15 +0000 2015', u'filter_level': u'low', u'in_reply_to_status_id_str': None, u'place': None}"
       ]
      },
      {
       "output_type": "stream",
       "stream": "stdout",
       "text": [
        "\n",
        "\n",
        "{u'contributors': None, u'truncated': False, u'text': u'RT @priyankachopra: Doritos!  http://t.co/lfYGJABFlN', u'in_reply_to_status_id': None, u'id': 631171558065741824L, u'favorite_count': 0, u'source': u'<a href=\"http://twitter.com\" rel=\"nofollow\">Twitter Web Client</a>', u'retweeted': False, u'coordinates': None, u'timestamp_ms': u'1439318000700', u'entities': {u'user_mentions': [{u'id': 18681139, u'indices': [3, 18], u'id_str': u'18681139', u'screen_name': u'priyankachopra', u'name': u'PRIYANKA '}], u'symbols': [], u'trends': [], u'hashtags': [], u'urls': [{u'url': u'http://t.co/lfYGJABFlN', u'indices': [30, 52], u'expanded_url': u'http://twitter.com/Superman_Me93/status/631123345103163393', u'display_url': u'twitter.com/Superman_Me93/\\u2026'}]}, u'in_reply_to_screen_name': None, u'id_str': u'631171558065741824', u'retweet_count': 0, u'in_reply_to_user_id': None, u'favorited': False, u'retweeted_status': {u'contributors': None, u'truncated': False, u'text': u'Doritos!  http://t.co/lfYGJABFlN', u'in_reply_to_status_id': None, u'id': 631125013467410432L, u'favorite_count': 263, u'source': u'<a href=\"http://twitterrific.com\" rel=\"nofollow\">Twitterrific</a>', u'quoted_status_id': 631123345103163393L, u'retweeted': False, u'coordinates': None, u'quoted_status': {u'contributors': None, u'truncated': False, u'text': u'@priyankachopra Midnight chocolate or ice cream ? #AskPC', u'in_reply_to_status_id': None, u'id': 631123345103163393L, u'favorite_count': 0, u'source': u'<a href=\"http://twitter.com/download/android\" rel=\"nofollow\">Twitter for Android</a>', u'retweeted': False, u'coordinates': None, u'entities': {u'user_mentions': [{u'id': 18681139, u'indices': [0, 15], u'id_str': u'18681139', u'screen_name': u'priyankachopra', u'name': u'PRIYANKA '}], u'symbols': [], u'trends': [], u'hashtags': [{u'indices': [50, 56], u'text': u'AskPC'}], u'urls': []}, u'in_reply_to_screen_name': u'priyankachopra', u'id_str': u'631123345103163393', u'retweet_count': 0, u'in_reply_to_user_id': 18681139, u'favorited': False, u'user': {u'follow_request_sent': None, u'profile_use_background_image': True, u'default_profile_image': False, u'id': 62742333, u'verified': False, u'profile_image_url_https': u'https://pbs.twimg.com/profile_images/563629594813542400/8DQ3k9ny_normal.jpeg', u'profile_sidebar_fill_color': u'7AC3EE', u'profile_text_color': u'3D1957', u'followers_count': 92, u'profile_sidebar_border_color': u'65B0DA', u'id_str': u'62742333', u'profile_background_color': u'642D8B', u'listed_count': 0, u'profile_background_image_url_https': u'https://abs.twimg.com/images/themes/theme10/bg.gif', u'utc_offset': 19800, u'statuses_count': 5993, u'description': u'#Dreamer #Philosopher #Friendly #Guide #Lover #Photographer #Thinker      Follow me on instagram @ dreamer.i Huge Priyanka Chopra Fan!!:D', u'friends_count': 167, u'location': u'India', u'profile_link_color': u'FF0000', u'profile_image_url': u'http://pbs.twimg.com/profile_images/563629594813542400/8DQ3k9ny_normal.jpeg', u'following': None, u'geo_enabled': False, u'profile_banner_url': u'https://pbs.twimg.com/profile_banners/62742333/1410514545', u'profile_background_image_url': u'http://abs.twimg.com/images/themes/theme10/bg.gif', u'name': u'Kartik Didwania', u'lang': u'en', u'profile_background_tile': True, u'favourites_count': 2888, u'screen_name': u'Superman_Me93', u'notifications': None, u'url': None, u'created_at': u'Tue Aug 04 06:54:23 +0000 2009', u'contributors_enabled': False, u'time_zone': u'New Delhi', u'protected': False, u'default_profile': False, u'is_translator': False}, u'geo': None, u'in_reply_to_user_id_str': u'18681139', u'possibly_sensitive': False, u'lang': u'en', u'created_at': u'Tue Aug 11 15:21:45 +0000 2015', u'filter_level': u'low', u'in_reply_to_status_id_str': None, u'place': None}, u'entities': {u'user_mentions': [], u'symbols': [], u'trends': [], u'hashtags': [], u'urls': [{u'url': u'http://t.co/lfYGJABFlN', u'indices': [10, 32], u'expanded_url': u'http://twitter.com/Superman_Me93/status/631123345103163393', u'display_url': u'twitter.com/Superman_Me93/\\u2026'}]}, u'in_reply_to_screen_name': None, u'id_str': u'631125013467410432', u'retweet_count': 84, u'in_reply_to_user_id': None, u'favorited': False, u'user': {u'follow_request_sent': None, u'profile_use_background_image': True, u'default_profile_image': False, u'id': 18681139, u'verified': True, u'profile_image_url_https': u'https://pbs.twimg.com/profile_images/627159997365903360/6NIzswCD_normal.png', u'profile_sidebar_fill_color': u'F6FFD1', u'profile_text_color': u'333333', u'followers_count': 10663015, u'profile_sidebar_border_color': u'FFFFFF', u'id_str': u'18681139', u'profile_background_color': u'0A0A09', u'listed_count': 28686, u'profile_background_image_url_https': u'https://pbs.twimg.com/profile_background_images/378800000121713509/56bc347ed351df4f26239ea79a7ee9f6.jpeg', u'utc_offset': 19800, u'statuses_count': 14720, u'description': u'ACTOR...\\nRECORDING ARTIST..\\nDREAMER..\\nACHIEVER..', u'friends_count': 386, u'location': u'', u'profile_link_color': u'0099CC', u'profile_image_url': u'http://pbs.twimg.com/profile_images/627159997365903360/6NIzswCD_normal.png', u'following': None, u'geo_enabled': False, u'profile_banner_url': u'https://pbs.twimg.com/profile_banners/18681139/1437389786', u'profile_background_image_url': u'http://pbs.twimg.com/profile_background_images/378800000121713509/56bc347ed351df4f26239ea79a7ee9f6.jpeg', u'name': u'PRIYANKA ', u'lang': u'en', u'profile_background_tile': True, u'favourites_count': 91, u'screen_name': u'priyankachopra', u'notifications': None, u'url': u'http://www.iampriyankachopra.com', u'created_at': u'Tue Jan 06 16:05:15 +0000 2009', u'contributors_enabled': False, u'time_zone': u'Mumbai', u'protected': False, u'default_profile': False, u'is_translator': False}, u'geo': None, u'in_reply_to_user_id_str': None, u'possibly_sensitive': False, u'lang': u'es', u'created_at': u'Tue Aug 11 15:28:23 +0000 2015', u'quoted_status_id_str': u'631123345103163393', u'filter_level': u'low', u'in_reply_to_status_id_str': None, u'place': None}, u'user': {u'follow_request_sent': None, u'profile_use_background_image': True, u'default_profile_image': False, u'id': 1900693339, u'verified': False, u'profile_image_url_https': u'https://pbs.twimg.com/profile_images/627173390391091200/U9ti9ESU_normal.jpg', u'profile_sidebar_fill_color': u'DDEEF6', u'profile_text_color': u'333333', u'followers_count': 840, u'profile_sidebar_border_color': u'FFFFFF', u'id_str': u'1900693339', u'profile_background_color': u'C0DEED', u'listed_count': 52, u'profile_background_image_url_https': u'https://pbs.twimg.com/profile_background_images/623509101432205312/izYWZRnG.jpg', u'utc_offset': 10800, u'statuses_count': 32511, u'description': u\"A die-hard,crazy fan of @aditiraohydari hope to meet her someday AditiRao's world\", u'friends_count': 421, u'location': u'Hermannstadt,Transylvania,RO', u'profile_link_color': u'0084B4', u'profile_image_url': u'http://pbs.twimg.com/profile_images/627173390391091200/U9ti9ESU_normal.jpg', u'following': None, u'geo_enabled': True, u'profile_banner_url': u'https://pbs.twimg.com/profile_banners/1900693339/1417649216', u'profile_background_image_url': u'http://pbs.twimg.com/profile_background_images/623509101432205312/izYWZRnG.jpg', u'name': u'AditiRaoHydariFan', u'lang': u'en', u'profile_background_tile': True, u'favourites_count': 28253, u'screen_name': u'adymorun', u'notifications': None, u'url': None, u'created_at': u'Tue Sep 24 14:29:00 +0000 2013', u'contributors_enabled': False, u'time_zone': u'Bucharest', u'protected': False, u'default_profile': False, u'is_translator': False}, u'geo': None, u'in_reply_to_user_id_str': None, u'possibly_sensitive': False, u'lang': u'es', u'created_at': u'Tue Aug 11 18:33:20 +0000 2015', u'filter_level': u'low', u'in_reply_to_status_id_str': None, u'place': None}"
       ]
      },
      {
       "output_type": "stream",
       "stream": "stdout",
       "text": [
        "\n",
        "\n"
       ]
      },
      {
       "ename": "KeyboardInterrupt",
       "evalue": "",
       "output_type": "pyerr",
       "traceback": [
        "\u001b[1;31m---------------------------------------------------------------------------\u001b[0m\n\u001b[1;31mKeyboardInterrupt\u001b[0m                         Traceback (most recent call last)",
        "\u001b[1;32m<ipython-input-3-835396f26750>\u001b[0m in \u001b[0;36m<module>\u001b[1;34m()\u001b[0m\n\u001b[0;32m     33\u001b[0m     \u001b[1;31m# For more details refer to https://dev.twitter.com/docs/streaming-apis\u001b[0m\u001b[1;33m\u001b[0m\u001b[1;33m\u001b[0m\u001b[0m\n\u001b[0;32m     34\u001b[0m     \u001b[0mstream\u001b[0m \u001b[1;33m=\u001b[0m \u001b[0mtweepy\u001b[0m\u001b[1;33m.\u001b[0m\u001b[0mStream\u001b[0m\u001b[1;33m(\u001b[0m\u001b[0mauth\u001b[0m\u001b[1;33m,\u001b[0m \u001b[0ml\u001b[0m\u001b[1;33m)\u001b[0m\u001b[1;33m\u001b[0m\u001b[0m\n\u001b[1;32m---> 35\u001b[1;33m     \u001b[0mstream\u001b[0m\u001b[1;33m.\u001b[0m\u001b[0mfilter\u001b[0m\u001b[1;33m(\u001b[0m\u001b[0mtrack\u001b[0m\u001b[1;33m=\u001b[0m\u001b[1;33m[\u001b[0m\u001b[1;34m'askpc'\u001b[0m\u001b[1;33m]\u001b[0m\u001b[1;33m)\u001b[0m\u001b[1;33m\u001b[0m\u001b[0m\n\u001b[0m",
        "\u001b[1;32mE:\\Currently Running\\Anaconda\\lib\\site-packages\\tweepy-3.3.0-py2.7.egg\\tweepy\\streaming.pyc\u001b[0m in \u001b[0;36mfilter\u001b[1;34m(self, follow, track, async, locations, stall_warnings, languages, encoding)\u001b[0m\n\u001b[0;32m    426\u001b[0m         \u001b[0mself\u001b[0m\u001b[1;33m.\u001b[0m\u001b[0msession\u001b[0m\u001b[1;33m.\u001b[0m\u001b[0mparams\u001b[0m \u001b[1;33m=\u001b[0m \u001b[1;33m{\u001b[0m\u001b[1;34m'delimited'\u001b[0m\u001b[1;33m:\u001b[0m \u001b[1;34m'length'\u001b[0m\u001b[1;33m}\u001b[0m\u001b[1;33m\u001b[0m\u001b[0m\n\u001b[0;32m    427\u001b[0m         \u001b[0mself\u001b[0m\u001b[1;33m.\u001b[0m\u001b[0mhost\u001b[0m \u001b[1;33m=\u001b[0m \u001b[1;34m'stream.twitter.com'\u001b[0m\u001b[1;33m\u001b[0m\u001b[0m\n\u001b[1;32m--> 428\u001b[1;33m         \u001b[0mself\u001b[0m\u001b[1;33m.\u001b[0m\u001b[0m_start\u001b[0m\u001b[1;33m(\u001b[0m\u001b[0masync\u001b[0m\u001b[1;33m)\u001b[0m\u001b[1;33m\u001b[0m\u001b[0m\n\u001b[0m\u001b[0;32m    429\u001b[0m \u001b[1;33m\u001b[0m\u001b[0m\n\u001b[0;32m    430\u001b[0m     def sitestream(self, follow, stall_warnings=False,\n",
        "\u001b[1;32mE:\\Currently Running\\Anaconda\\lib\\site-packages\\tweepy-3.3.0-py2.7.egg\\tweepy\\streaming.pyc\u001b[0m in \u001b[0;36m_start\u001b[1;34m(self, async)\u001b[0m\n\u001b[0;32m    344\u001b[0m             \u001b[0mself\u001b[0m\u001b[1;33m.\u001b[0m\u001b[0m_thread\u001b[0m\u001b[1;33m.\u001b[0m\u001b[0mstart\u001b[0m\u001b[1;33m(\u001b[0m\u001b[1;33m)\u001b[0m\u001b[1;33m\u001b[0m\u001b[0m\n\u001b[0;32m    345\u001b[0m         \u001b[1;32melse\u001b[0m\u001b[1;33m:\u001b[0m\u001b[1;33m\u001b[0m\u001b[0m\n\u001b[1;32m--> 346\u001b[1;33m             \u001b[0mself\u001b[0m\u001b[1;33m.\u001b[0m\u001b[0m_run\u001b[0m\u001b[1;33m(\u001b[0m\u001b[1;33m)\u001b[0m\u001b[1;33m\u001b[0m\u001b[0m\n\u001b[0m\u001b[0;32m    347\u001b[0m \u001b[1;33m\u001b[0m\u001b[0m\n\u001b[0;32m    348\u001b[0m     \u001b[1;32mdef\u001b[0m \u001b[0mon_closed\u001b[0m\u001b[1;33m(\u001b[0m\u001b[0mself\u001b[0m\u001b[1;33m,\u001b[0m \u001b[0mresp\u001b[0m\u001b[1;33m)\u001b[0m\u001b[1;33m:\u001b[0m\u001b[1;33m\u001b[0m\u001b[0m\n",
        "\u001b[1;32mE:\\Currently Running\\Anaconda\\lib\\site-packages\\tweepy-3.3.0-py2.7.egg\\tweepy\\streaming.pyc\u001b[0m in \u001b[0;36m_run\u001b[1;34m(self)\u001b[0m\n\u001b[0;32m    253\u001b[0m                     \u001b[0mself\u001b[0m\u001b[1;33m.\u001b[0m\u001b[0msnooze_time\u001b[0m \u001b[1;33m=\u001b[0m \u001b[0mself\u001b[0m\u001b[1;33m.\u001b[0m\u001b[0msnooze_time_step\u001b[0m\u001b[1;33m\u001b[0m\u001b[0m\n\u001b[0;32m    254\u001b[0m                     \u001b[0mself\u001b[0m\u001b[1;33m.\u001b[0m\u001b[0mlistener\u001b[0m\u001b[1;33m.\u001b[0m\u001b[0mon_connect\u001b[0m\u001b[1;33m(\u001b[0m\u001b[1;33m)\u001b[0m\u001b[1;33m\u001b[0m\u001b[0m\n\u001b[1;32m--> 255\u001b[1;33m                     \u001b[0mself\u001b[0m\u001b[1;33m.\u001b[0m\u001b[0m_read_loop\u001b[0m\u001b[1;33m(\u001b[0m\u001b[0mresp\u001b[0m\u001b[1;33m)\u001b[0m\u001b[1;33m\u001b[0m\u001b[0m\n\u001b[0m\u001b[0;32m    256\u001b[0m             \u001b[1;32mexcept\u001b[0m \u001b[1;33m(\u001b[0m\u001b[0mTimeout\u001b[0m\u001b[1;33m,\u001b[0m \u001b[0mssl\u001b[0m\u001b[1;33m.\u001b[0m\u001b[0mSSLError\u001b[0m\u001b[1;33m)\u001b[0m \u001b[1;32mas\u001b[0m \u001b[0mexc\u001b[0m\u001b[1;33m:\u001b[0m\u001b[1;33m\u001b[0m\u001b[0m\n\u001b[0;32m    257\u001b[0m                 \u001b[1;31m# This is still necessary, as a SSLError can actually be\u001b[0m\u001b[1;33m\u001b[0m\u001b[1;33m\u001b[0m\u001b[0m\n",
        "\u001b[1;32mE:\\Currently Running\\Anaconda\\lib\\site-packages\\tweepy-3.3.0-py2.7.egg\\tweepy\\streaming.pyc\u001b[0m in \u001b[0;36m_read_loop\u001b[1;34m(self, resp)\u001b[0m\n\u001b[0;32m    296\u001b[0m             \u001b[0mlength\u001b[0m \u001b[1;33m=\u001b[0m \u001b[1;36m0\u001b[0m\u001b[1;33m\u001b[0m\u001b[0m\n\u001b[0;32m    297\u001b[0m             \u001b[1;32mwhile\u001b[0m \u001b[1;32mnot\u001b[0m \u001b[0mresp\u001b[0m\u001b[1;33m.\u001b[0m\u001b[0mraw\u001b[0m\u001b[1;33m.\u001b[0m\u001b[0mclosed\u001b[0m\u001b[1;33m:\u001b[0m\u001b[1;33m\u001b[0m\u001b[0m\n\u001b[1;32m--> 298\u001b[1;33m                 \u001b[0mline\u001b[0m \u001b[1;33m=\u001b[0m \u001b[0mbuf\u001b[0m\u001b[1;33m.\u001b[0m\u001b[0mread_line\u001b[0m\u001b[1;33m(\u001b[0m\u001b[1;33m)\u001b[0m\u001b[1;33m.\u001b[0m\u001b[0mstrip\u001b[0m\u001b[1;33m(\u001b[0m\u001b[1;33m)\u001b[0m\u001b[1;33m\u001b[0m\u001b[0m\n\u001b[0m\u001b[0;32m    299\u001b[0m                 \u001b[1;32mif\u001b[0m \u001b[1;32mnot\u001b[0m \u001b[0mline\u001b[0m\u001b[1;33m:\u001b[0m\u001b[1;33m\u001b[0m\u001b[0m\n\u001b[0;32m    300\u001b[0m                     \u001b[0mself\u001b[0m\u001b[1;33m.\u001b[0m\u001b[0mlistener\u001b[0m\u001b[1;33m.\u001b[0m\u001b[0mkeep_alive\u001b[0m\u001b[1;33m(\u001b[0m\u001b[1;33m)\u001b[0m  \u001b[1;31m# keep-alive new lines are expected\u001b[0m\u001b[1;33m\u001b[0m\u001b[0m\n",
        "\u001b[1;32mE:\\Currently Running\\Anaconda\\lib\\site-packages\\tweepy-3.3.0-py2.7.egg\\tweepy\\streaming.pyc\u001b[0m in \u001b[0;36mread_line\u001b[1;34m(self, sep)\u001b[0m\n\u001b[0;32m    169\u001b[0m             \u001b[1;32melse\u001b[0m\u001b[1;33m:\u001b[0m\u001b[1;33m\u001b[0m\u001b[0m\n\u001b[0;32m    170\u001b[0m                 \u001b[0mstart\u001b[0m \u001b[1;33m=\u001b[0m \u001b[0mlen\u001b[0m\u001b[1;33m(\u001b[0m\u001b[0mself\u001b[0m\u001b[1;33m.\u001b[0m\u001b[0m_buffer\u001b[0m\u001b[1;33m)\u001b[0m\u001b[1;33m\u001b[0m\u001b[0m\n\u001b[1;32m--> 171\u001b[1;33m             \u001b[0mself\u001b[0m\u001b[1;33m.\u001b[0m\u001b[0m_buffer\u001b[0m \u001b[1;33m+=\u001b[0m \u001b[0mself\u001b[0m\u001b[1;33m.\u001b[0m\u001b[0m_stream\u001b[0m\u001b[1;33m.\u001b[0m\u001b[0mread\u001b[0m\u001b[1;33m(\u001b[0m\u001b[0mself\u001b[0m\u001b[1;33m.\u001b[0m\u001b[0m_chunk_size\u001b[0m\u001b[1;33m)\u001b[0m\u001b[1;33m.\u001b[0m\u001b[0mdecode\u001b[0m\u001b[1;33m(\u001b[0m\u001b[1;34m\"ascii\"\u001b[0m\u001b[1;33m)\u001b[0m\u001b[1;33m\u001b[0m\u001b[0m\n\u001b[0m\u001b[0;32m    172\u001b[0m \u001b[1;33m\u001b[0m\u001b[0m\n\u001b[0;32m    173\u001b[0m     \u001b[1;32mdef\u001b[0m \u001b[0m_pop\u001b[0m\u001b[1;33m(\u001b[0m\u001b[0mself\u001b[0m\u001b[1;33m,\u001b[0m \u001b[0mlength\u001b[0m\u001b[1;33m)\u001b[0m\u001b[1;33m:\u001b[0m\u001b[1;33m\u001b[0m\u001b[0m\n",
        "\u001b[1;32mE:\\Currently Running\\Anaconda\\lib\\site-packages\\requests-2.5.3-py2.7.egg\\requests\\packages\\urllib3\\response.pyc\u001b[0m in \u001b[0;36mread\u001b[1;34m(self, amt, decode_content, cache_content)\u001b[0m\n\u001b[0;32m    201\u001b[0m                 \u001b[1;32melse\u001b[0m\u001b[1;33m:\u001b[0m\u001b[1;33m\u001b[0m\u001b[0m\n\u001b[0;32m    202\u001b[0m                     \u001b[0mcache_content\u001b[0m \u001b[1;33m=\u001b[0m \u001b[0mFalse\u001b[0m\u001b[1;33m\u001b[0m\u001b[0m\n\u001b[1;32m--> 203\u001b[1;33m                     \u001b[0mdata\u001b[0m \u001b[1;33m=\u001b[0m \u001b[0mself\u001b[0m\u001b[1;33m.\u001b[0m\u001b[0m_fp\u001b[0m\u001b[1;33m.\u001b[0m\u001b[0mread\u001b[0m\u001b[1;33m(\u001b[0m\u001b[0mamt\u001b[0m\u001b[1;33m)\u001b[0m\u001b[1;33m\u001b[0m\u001b[0m\n\u001b[0m\u001b[0;32m    204\u001b[0m                     \u001b[1;32mif\u001b[0m \u001b[0mamt\u001b[0m \u001b[1;33m!=\u001b[0m \u001b[1;36m0\u001b[0m \u001b[1;32mand\u001b[0m \u001b[1;32mnot\u001b[0m \u001b[0mdata\u001b[0m\u001b[1;33m:\u001b[0m  \u001b[1;31m# Platform-specific: Buggy versions of Python.\u001b[0m\u001b[1;33m\u001b[0m\u001b[0m\n\u001b[0;32m    205\u001b[0m                         \u001b[1;31m# Close the connection when no data is returned\u001b[0m\u001b[1;33m\u001b[0m\u001b[1;33m\u001b[0m\u001b[0m\n",
        "\u001b[1;32mE:\\Currently Running\\Anaconda\\lib\\httplib.pyc\u001b[0m in \u001b[0;36mread\u001b[1;34m(self, amt)\u001b[0m\n\u001b[0;32m    541\u001b[0m \u001b[1;33m\u001b[0m\u001b[0m\n\u001b[0;32m    542\u001b[0m         \u001b[1;32mif\u001b[0m \u001b[0mself\u001b[0m\u001b[1;33m.\u001b[0m\u001b[0mchunked\u001b[0m\u001b[1;33m:\u001b[0m\u001b[1;33m\u001b[0m\u001b[0m\n\u001b[1;32m--> 543\u001b[1;33m             \u001b[1;32mreturn\u001b[0m \u001b[0mself\u001b[0m\u001b[1;33m.\u001b[0m\u001b[0m_read_chunked\u001b[0m\u001b[1;33m(\u001b[0m\u001b[0mamt\u001b[0m\u001b[1;33m)\u001b[0m\u001b[1;33m\u001b[0m\u001b[0m\n\u001b[0m\u001b[0;32m    544\u001b[0m \u001b[1;33m\u001b[0m\u001b[0m\n\u001b[0;32m    545\u001b[0m         \u001b[1;32mif\u001b[0m \u001b[0mamt\u001b[0m \u001b[1;32mis\u001b[0m \u001b[0mNone\u001b[0m\u001b[1;33m:\u001b[0m\u001b[1;33m\u001b[0m\u001b[0m\n",
        "\u001b[1;32mE:\\Currently Running\\Anaconda\\lib\\httplib.pyc\u001b[0m in \u001b[0;36m_read_chunked\u001b[1;34m(self, amt)\u001b[0m\n\u001b[0;32m    583\u001b[0m         \u001b[1;32mwhile\u001b[0m \u001b[0mTrue\u001b[0m\u001b[1;33m:\u001b[0m\u001b[1;33m\u001b[0m\u001b[0m\n\u001b[0;32m    584\u001b[0m             \u001b[1;32mif\u001b[0m \u001b[0mchunk_left\u001b[0m \u001b[1;32mis\u001b[0m \u001b[0mNone\u001b[0m\u001b[1;33m:\u001b[0m\u001b[1;33m\u001b[0m\u001b[0m\n\u001b[1;32m--> 585\u001b[1;33m                 \u001b[0mline\u001b[0m \u001b[1;33m=\u001b[0m \u001b[0mself\u001b[0m\u001b[1;33m.\u001b[0m\u001b[0mfp\u001b[0m\u001b[1;33m.\u001b[0m\u001b[0mreadline\u001b[0m\u001b[1;33m(\u001b[0m\u001b[0m_MAXLINE\u001b[0m \u001b[1;33m+\u001b[0m \u001b[1;36m1\u001b[0m\u001b[1;33m)\u001b[0m\u001b[1;33m\u001b[0m\u001b[0m\n\u001b[0m\u001b[0;32m    586\u001b[0m                 \u001b[1;32mif\u001b[0m \u001b[0mlen\u001b[0m\u001b[1;33m(\u001b[0m\u001b[0mline\u001b[0m\u001b[1;33m)\u001b[0m \u001b[1;33m>\u001b[0m \u001b[0m_MAXLINE\u001b[0m\u001b[1;33m:\u001b[0m\u001b[1;33m\u001b[0m\u001b[0m\n\u001b[0;32m    587\u001b[0m                     \u001b[1;32mraise\u001b[0m \u001b[0mLineTooLong\u001b[0m\u001b[1;33m(\u001b[0m\u001b[1;34m\"chunk size\"\u001b[0m\u001b[1;33m)\u001b[0m\u001b[1;33m\u001b[0m\u001b[0m\n",
        "\u001b[1;32mE:\\Currently Running\\Anaconda\\lib\\socket.pyc\u001b[0m in \u001b[0;36mreadline\u001b[1;34m(self, size)\u001b[0m\n\u001b[0;32m    474\u001b[0m             \u001b[1;32mwhile\u001b[0m \u001b[0mTrue\u001b[0m\u001b[1;33m:\u001b[0m\u001b[1;33m\u001b[0m\u001b[0m\n\u001b[0;32m    475\u001b[0m                 \u001b[1;32mtry\u001b[0m\u001b[1;33m:\u001b[0m\u001b[1;33m\u001b[0m\u001b[0m\n\u001b[1;32m--> 476\u001b[1;33m                     \u001b[0mdata\u001b[0m \u001b[1;33m=\u001b[0m \u001b[0mself\u001b[0m\u001b[1;33m.\u001b[0m\u001b[0m_sock\u001b[0m\u001b[1;33m.\u001b[0m\u001b[0mrecv\u001b[0m\u001b[1;33m(\u001b[0m\u001b[0mself\u001b[0m\u001b[1;33m.\u001b[0m\u001b[0m_rbufsize\u001b[0m\u001b[1;33m)\u001b[0m\u001b[1;33m\u001b[0m\u001b[0m\n\u001b[0m\u001b[0;32m    477\u001b[0m                 \u001b[1;32mexcept\u001b[0m \u001b[0merror\u001b[0m\u001b[1;33m,\u001b[0m \u001b[0me\u001b[0m\u001b[1;33m:\u001b[0m\u001b[1;33m\u001b[0m\u001b[0m\n\u001b[0;32m    478\u001b[0m                     \u001b[1;32mif\u001b[0m \u001b[0me\u001b[0m\u001b[1;33m.\u001b[0m\u001b[0margs\u001b[0m\u001b[1;33m[\u001b[0m\u001b[1;36m0\u001b[0m\u001b[1;33m]\u001b[0m \u001b[1;33m==\u001b[0m \u001b[0mEINTR\u001b[0m\u001b[1;33m:\u001b[0m\u001b[1;33m\u001b[0m\u001b[0m\n",
        "\u001b[1;32mE:\\Currently Running\\Anaconda\\lib\\ssl.pyc\u001b[0m in \u001b[0;36mrecv\u001b[1;34m(self, buflen, flags)\u001b[0m\n\u001b[0;32m    244\u001b[0m                     \u001b[1;34m\"non-zero flags not allowed in calls to recv() on %s\"\u001b[0m \u001b[1;33m%\u001b[0m\u001b[1;33m\u001b[0m\u001b[0m\n\u001b[0;32m    245\u001b[0m                     self.__class__)\n\u001b[1;32m--> 246\u001b[1;33m             \u001b[1;32mreturn\u001b[0m \u001b[0mself\u001b[0m\u001b[1;33m.\u001b[0m\u001b[0mread\u001b[0m\u001b[1;33m(\u001b[0m\u001b[0mbuflen\u001b[0m\u001b[1;33m)\u001b[0m\u001b[1;33m\u001b[0m\u001b[0m\n\u001b[0m\u001b[0;32m    247\u001b[0m         \u001b[1;32melse\u001b[0m\u001b[1;33m:\u001b[0m\u001b[1;33m\u001b[0m\u001b[0m\n\u001b[0;32m    248\u001b[0m             \u001b[1;32mreturn\u001b[0m \u001b[0mself\u001b[0m\u001b[1;33m.\u001b[0m\u001b[0m_sock\u001b[0m\u001b[1;33m.\u001b[0m\u001b[0mrecv\u001b[0m\u001b[1;33m(\u001b[0m\u001b[0mbuflen\u001b[0m\u001b[1;33m,\u001b[0m \u001b[0mflags\u001b[0m\u001b[1;33m)\u001b[0m\u001b[1;33m\u001b[0m\u001b[0m\n",
        "\u001b[1;32mE:\\Currently Running\\Anaconda\\lib\\ssl.pyc\u001b[0m in \u001b[0;36mread\u001b[1;34m(self, len)\u001b[0m\n\u001b[0;32m    163\u001b[0m \u001b[1;33m\u001b[0m\u001b[0m\n\u001b[0;32m    164\u001b[0m         \u001b[1;32mtry\u001b[0m\u001b[1;33m:\u001b[0m\u001b[1;33m\u001b[0m\u001b[0m\n\u001b[1;32m--> 165\u001b[1;33m             \u001b[1;32mreturn\u001b[0m \u001b[0mself\u001b[0m\u001b[1;33m.\u001b[0m\u001b[0m_sslobj\u001b[0m\u001b[1;33m.\u001b[0m\u001b[0mread\u001b[0m\u001b[1;33m(\u001b[0m\u001b[0mlen\u001b[0m\u001b[1;33m)\u001b[0m\u001b[1;33m\u001b[0m\u001b[0m\n\u001b[0m\u001b[0;32m    166\u001b[0m         \u001b[1;32mexcept\u001b[0m \u001b[0mSSLError\u001b[0m\u001b[1;33m,\u001b[0m \u001b[0mx\u001b[0m\u001b[1;33m:\u001b[0m\u001b[1;33m\u001b[0m\u001b[0m\n\u001b[0;32m    167\u001b[0m             \u001b[1;32mif\u001b[0m \u001b[0mx\u001b[0m\u001b[1;33m.\u001b[0m\u001b[0margs\u001b[0m\u001b[1;33m[\u001b[0m\u001b[1;36m0\u001b[0m\u001b[1;33m]\u001b[0m \u001b[1;33m==\u001b[0m \u001b[0mSSL_ERROR_EOF\u001b[0m \u001b[1;32mand\u001b[0m \u001b[0mself\u001b[0m\u001b[1;33m.\u001b[0m\u001b[0msuppress_ragged_eofs\u001b[0m\u001b[1;33m:\u001b[0m\u001b[1;33m\u001b[0m\u001b[0m\n",
        "\u001b[1;31mKeyboardInterrupt\u001b[0m: "
       ]
      }
     ],
     "prompt_number": 3
    },
    {
     "cell_type": "code",
     "collapsed": false,
     "input": [
      "def func():\n",
      "    global x\n",
      "    x.clear()\n",
      "    list(x)\n",
      "    x= []\n",
      "\n",
      "\n",
      "x = [1,2,3,4]\n",
      "x = set(x)\n",
      "func()\n",
      "\n"
     ],
     "language": "python",
     "metadata": {},
     "outputs": [],
     "prompt_number": 22
    },
    {
     "cell_type": "code",
     "collapsed": false,
     "input": [
      "x"
     ],
     "language": "python",
     "metadata": {},
     "outputs": [
      {
       "metadata": {},
       "output_type": "pyout",
       "prompt_number": 25,
       "text": [
        "[]"
       ]
      }
     ],
     "prompt_number": 25
    },
    {
     "cell_type": "code",
     "collapsed": false,
     "input": [],
     "language": "python",
     "metadata": {},
     "outputs": []
    }
   ],
   "metadata": {}
  }
 ]
}